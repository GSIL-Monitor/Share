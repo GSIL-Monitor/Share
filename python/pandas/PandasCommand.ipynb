{
 "cells": [
  {
   "cell_type": "markdown",
   "metadata": {},
   "source": [
    "# Panda 操作"
   ]
  },
  {
   "cell_type": "markdown",
   "metadata": {
    "collapsed": true
   },
   "source": [
    "## 数据读写"
   ]
  },
  {
   "cell_type": "code",
   "execution_count": null,
   "metadata": {
    "collapsed": false
   },
   "outputs": [],
   "source": [
    "import pandas as pd\n",
    "import numpy as np\n",
    "import matplotlib.pylab as plt\n",
    "from sqlalchemy import create_engine\n",
    "from datetime import datetime, timedelta\n",
    "from IPython.core.interactiveshell import InteractiveShell\n",
    "import warnings\n",
    "\n",
    "warnings.filterwarnings(\"ignore\")\n",
    "InteractiveShell.ast_node_interactivity = \"all\"\n",
    "# db_connect_string = 'mysql://user:pass@ip:port/db?charset=utf8'\n",
    "# engine = create_engine(db_connect_string)"
   ]
  },
  {
   "cell_type": "markdown",
   "metadata": {},
   "source": [
    "## 数据读写"
   ]
  },
  {
   "cell_type": "code",
   "execution_count": null,
   "metadata": {
    "collapsed": false
   },
   "outputs": [
    {
     "data": {
      "text/html": [
       "<div>\n",
       "<table border=\"1\" class=\"dataframe\">\n",
       "  <thead>\n",
       "    <tr style=\"text-align: right;\">\n",
       "      <th></th>\n",
       "      <th>code</th>\n",
       "      <th>nav</th>\n",
       "      <th>date_time</th>\n",
       "    </tr>\n",
       "    <tr>\n",
       "      <th>date_time</th>\n",
       "      <th></th>\n",
       "      <th></th>\n",
       "      <th></th>\n",
       "    </tr>\n",
       "  </thead>\n",
       "  <tbody>\n",
       "    <tr>\n",
       "      <th>2016-01-04</th>\n",
       "      <td>1</td>\n",
       "      <td>0.999001</td>\n",
       "      <td>2016-01-04</td>\n",
       "    </tr>\n",
       "    <tr>\n",
       "      <th>2016-01-04</th>\n",
       "      <td>2</td>\n",
       "      <td>0.999001</td>\n",
       "      <td>2016-01-04</td>\n",
       "    </tr>\n",
       "    <tr>\n",
       "      <th>2016-01-05</th>\n",
       "      <td>1</td>\n",
       "      <td>1.000297</td>\n",
       "      <td>2016-01-05</td>\n",
       "    </tr>\n",
       "    <tr>\n",
       "      <th>2016-01-05</th>\n",
       "      <td>2</td>\n",
       "      <td>1.000500</td>\n",
       "      <td>2016-01-05</td>\n",
       "    </tr>\n",
       "    <tr>\n",
       "      <th>2016-01-06</th>\n",
       "      <td>1</td>\n",
       "      <td>1.004318</td>\n",
       "      <td>2016-01-06</td>\n",
       "    </tr>\n",
       "  </tbody>\n",
       "</table>\n",
       "</div>"
      ],
      "text/plain": [
       "            code       nav   date_time\n",
       "date_time                             \n",
       "2016-01-04     1  0.999001  2016-01-04\n",
       "2016-01-04     2  0.999001  2016-01-04\n",
       "2016-01-05     1  1.000297  2016-01-05\n",
       "2016-01-05     2  1.000500  2016-01-05\n",
       "2016-01-06     1  1.004318  2016-01-06"
      ]
     },
     "execution_count": 2,
     "metadata": {},
     "output_type": "execute_result"
    }
   ],
   "source": [
    "df_nav = pd.read_excel('output/nav.xls')\n",
    "# df_nav = pd.read_excel('output/nav.xls',index_col='date_time')\n",
    "# df_nav.to_excel('output/nav2.xls', index=False)\n",
    "# with engine.connect() as conn:\n",
    "#     df = pd.read_sql('select * from fund', conn)\n",
    "#     df.to_sql('fofs_calculate', conn, if_exists=\"append\", index=False)\n",
    "df_nav = df_nav[['code','nav','date_time']]\n",
    "df_nav.index = df_nav['date_time']\n",
    "df_nav.head()"
   ]
  },
  {
   "cell_type": "markdown",
   "metadata": {},
   "source": [
    "## 转换（DataFrame - Series）"
   ]
  },
  {
   "cell_type": "code",
   "execution_count": 3,
   "metadata": {
    "collapsed": false
   },
   "outputs": [
    {
     "data": {
      "text/plain": [
       "[['1', 0.35222743308368976, Timestamp('2017-11-27 11:41:29.725000')]]"
      ]
     },
     "execution_count": 3,
     "metadata": {},
     "output_type": "execute_result"
    },
    {
     "data": {
      "text/html": [
       "<div>\n",
       "<table border=\"1\" class=\"dataframe\">\n",
       "  <thead>\n",
       "    <tr style=\"text-align: right;\">\n",
       "      <th></th>\n",
       "      <th>code</th>\n",
       "      <th>nav</th>\n",
       "      <th>date_time</th>\n",
       "    </tr>\n",
       "  </thead>\n",
       "  <tbody>\n",
       "    <tr>\n",
       "      <th>0</th>\n",
       "      <td>1</td>\n",
       "      <td>0.352227</td>\n",
       "      <td>2017-11-27 11:41:29.725</td>\n",
       "    </tr>\n",
       "  </tbody>\n",
       "</table>\n",
       "</div>"
      ],
      "text/plain": [
       "  code       nav               date_time\n",
       "0    1  0.352227 2017-11-27 11:41:29.725"
      ]
     },
     "execution_count": 3,
     "metadata": {},
     "output_type": "execute_result"
    }
   ],
   "source": [
    "df_nav2 = pd.DataFrame()\n",
    "dic = {'date_time': datetime.today(), 'nav': np.random.random(), 'code': '1'}\n",
    "list = [dic]\n",
    "# 词典转df\n",
    "df_nav2 = df_nav2.from_dict(dic, orient='index').T\n",
    "# list转df\n",
    "df_nav2 = pd.DataFrame(list, columns=['code', 'nav', 'date_time'])\n",
    "# df转np.array\n",
    "arr = np.array(df_nav2)\n",
    "# array转list\n",
    "arr.tolist()\n",
    "#深拷贝\n",
    "df_nav2.copy()"
   ]
  },
  {
   "cell_type": "markdown",
   "metadata": {},
   "source": [
    "## 筛选（loc、iloc、ix）"
   ]
  },
  {
   "cell_type": "markdown",
   "metadata": {},
   "source": [
    "> loc、iloc和ix的区别：\n",
    "* 1、loc是筛选的index\n",
    "* 2、iloc是筛选的行号\n",
    "* 3、ix则是满足以上两种筛选方式，但是如果索引使用自增序列且与行号不一致会产生歧义"
   ]
  },
  {
   "cell_type": "code",
   "execution_count": 52,
   "metadata": {
    "collapsed": false
   },
   "outputs": [
    {
     "data": {
      "text/html": [
       "<div>\n",
       "<table border=\"1\" class=\"dataframe\">\n",
       "  <thead>\n",
       "    <tr style=\"text-align: right;\">\n",
       "      <th></th>\n",
       "      <th>code</th>\n",
       "      <th>nav</th>\n",
       "      <th>date_time</th>\n",
       "    </tr>\n",
       "    <tr>\n",
       "      <th>date_time</th>\n",
       "      <th></th>\n",
       "      <th></th>\n",
       "      <th></th>\n",
       "    </tr>\n",
       "  </thead>\n",
       "  <tbody>\n",
       "    <tr>\n",
       "      <th>2016-01-05</th>\n",
       "      <td>1</td>\n",
       "      <td>1.000297</td>\n",
       "      <td>2016-01-05</td>\n",
       "    </tr>\n",
       "    <tr>\n",
       "      <th>2016-01-06</th>\n",
       "      <td>1</td>\n",
       "      <td>1.004318</td>\n",
       "      <td>2016-01-06</td>\n",
       "    </tr>\n",
       "    <tr>\n",
       "      <th>2016-01-07</th>\n",
       "      <td>1</td>\n",
       "      <td>1.005256</td>\n",
       "      <td>2016-01-07</td>\n",
       "    </tr>\n",
       "    <tr>\n",
       "      <th>2016-01-08</th>\n",
       "      <td>1</td>\n",
       "      <td>1.007626</td>\n",
       "      <td>2016-01-08</td>\n",
       "    </tr>\n",
       "    <tr>\n",
       "      <th>2016-01-11</th>\n",
       "      <td>1</td>\n",
       "      <td>1.005755</td>\n",
       "      <td>2016-01-11</td>\n",
       "    </tr>\n",
       "  </tbody>\n",
       "</table>\n",
       "</div>"
      ],
      "text/plain": [
       "            code       nav   date_time\n",
       "date_time                             \n",
       "2016-01-05     1  1.000297  2016-01-05\n",
       "2016-01-06     1  1.004318  2016-01-06\n",
       "2016-01-07     1  1.005256  2016-01-07\n",
       "2016-01-08     1  1.007626  2016-01-08\n",
       "2016-01-11     1  1.005755  2016-01-11"
      ]
     },
     "execution_count": 52,
     "metadata": {},
     "output_type": "execute_result"
    },
    {
     "data": {
      "text/plain": [
       "0.99900099900099926"
      ]
     },
     "execution_count": 52,
     "metadata": {},
     "output_type": "execute_result"
    },
    {
     "data": {
      "text/plain": [
       "date_time\n",
       "2016-06-01    1.053859\n",
       "2016-06-01    0.971399\n",
       "Name: nav, dtype: float64"
      ]
     },
     "execution_count": 52,
     "metadata": {},
     "output_type": "execute_result"
    },
    {
     "data": {
      "text/plain": [
       "0.99900099900099926"
      ]
     },
     "execution_count": 52,
     "metadata": {},
     "output_type": "execute_result"
    },
    {
     "data": {
      "text/plain": [
       "date_time\n",
       "2016-06-01    1.053859\n",
       "2016-06-01    0.971399\n",
       "Name: nav, dtype: float64"
      ]
     },
     "execution_count": 52,
     "metadata": {},
     "output_type": "execute_result"
    },
    {
     "data": {
      "text/plain": [
       "0.99900099900099926"
      ]
     },
     "execution_count": 52,
     "metadata": {},
     "output_type": "execute_result"
    },
    {
     "data": {
      "text/plain": [
       "0.99900099900099926"
      ]
     },
     "execution_count": 52,
     "metadata": {},
     "output_type": "execute_result"
    },
    {
     "data": {
      "text/plain": [
       "0.99900099900099926"
      ]
     },
     "execution_count": 52,
     "metadata": {},
     "output_type": "execute_result"
    }
   ],
   "source": [
    "# 保留其中几列\n",
    "df_nav = df_nav[['code','nav', 'date_time']]\n",
    "# 修改索引\n",
    "df_nav.index = df_nav['date_time']\n",
    "# 筛选code=1的\n",
    "d1 = df_nav[df_nav.code == 1]\n",
    "# 筛选净值 > 1\n",
    "d2 = df_nav[df_nav.nav > 1]\n",
    "# 筛选 code = 1 and nav > 1的\n",
    "df_nav.loc[(df_nav.code == 1) & (df_nav.nav > 1)].head()\n",
    "# 前5行\n",
    "d3 = df_nav[0:5]\n",
    "#  df_nav[0:5]['nav'] == df_nav['nav'][0:5]都是Series\n",
    "# d4 = df前5行nav列_nav['nav'][0:5]\n",
    "# 取值 使用loc、iloc方式 \n",
    "df_nav[0:1]['nav'].values[0]\n",
    "df_nav.loc['2016-06-01']['nav']\n",
    "df_nav.iloc[0]['nav']\n",
    "df_nav.ix['2016-06-01']['nav']\n",
    "df_nav.ix[0]['nav']\n",
    "df_nav.ix[0][1]\n",
    "# loc和下标方式\n",
    "df_nav['nav'][0]"
   ]
  },
  {
   "cell_type": "markdown",
   "metadata": {},
   "source": [
    "## 排序（sort、sort_values）"
   ]
  },
  {
   "cell_type": "code",
   "execution_count": 5,
   "metadata": {
    "collapsed": false
   },
   "outputs": [
    {
     "data": {
      "text/html": [
       "<div>\n",
       "<table border=\"1\" class=\"dataframe\">\n",
       "  <thead>\n",
       "    <tr style=\"text-align: right;\">\n",
       "      <th></th>\n",
       "      <th>code</th>\n",
       "      <th>nav</th>\n",
       "      <th>date_time</th>\n",
       "    </tr>\n",
       "    <tr>\n",
       "      <th>date_time</th>\n",
       "      <th></th>\n",
       "      <th></th>\n",
       "      <th></th>\n",
       "    </tr>\n",
       "  </thead>\n",
       "  <tbody>\n",
       "    <tr>\n",
       "      <th>2016-01-04</th>\n",
       "      <td>1</td>\n",
       "      <td>0.999001</td>\n",
       "      <td>2016-01-04</td>\n",
       "    </tr>\n",
       "    <tr>\n",
       "      <th>2016-01-04</th>\n",
       "      <td>2</td>\n",
       "      <td>0.999001</td>\n",
       "      <td>2016-01-04</td>\n",
       "    </tr>\n",
       "    <tr>\n",
       "      <th>2016-01-05</th>\n",
       "      <td>1</td>\n",
       "      <td>1.000297</td>\n",
       "      <td>2016-01-05</td>\n",
       "    </tr>\n",
       "    <tr>\n",
       "      <th>2016-01-05</th>\n",
       "      <td>2</td>\n",
       "      <td>1.000500</td>\n",
       "      <td>2016-01-05</td>\n",
       "    </tr>\n",
       "    <tr>\n",
       "      <th>2016-01-06</th>\n",
       "      <td>1</td>\n",
       "      <td>1.004318</td>\n",
       "      <td>2016-01-06</td>\n",
       "    </tr>\n",
       "  </tbody>\n",
       "</table>\n",
       "</div>"
      ],
      "text/plain": [
       "            code       nav   date_time\n",
       "date_time                             \n",
       "2016-01-04     1  0.999001  2016-01-04\n",
       "2016-01-04     2  0.999001  2016-01-04\n",
       "2016-01-05     1  1.000297  2016-01-05\n",
       "2016-01-05     2  1.000500  2016-01-05\n",
       "2016-01-06     1  1.004318  2016-01-06"
      ]
     },
     "execution_count": 5,
     "metadata": {},
     "output_type": "execute_result"
    }
   ],
   "source": [
    "# 升序排序\n",
    "df_nav.sort_values(by = ['date_time','code'], inplace=True,ascending=True)\n",
    "df_nav.head()"
   ]
  },
  {
   "cell_type": "markdown",
   "metadata": {},
   "source": [
    "## 连接（concat、append、join、merge）"
   ]
  },
  {
   "cell_type": "markdown",
   "metadata": {},
   "source": [
    "> concat和append的区别：\n",
    "* 1、concat分为行连接和列连接需要通过axis指定\n",
    "* 2、append行和列都会进行连接"
   ]
  },
  {
   "cell_type": "code",
   "execution_count": 6,
   "metadata": {
    "collapsed": false
   },
   "outputs": [
    {
     "data": {
      "text/html": [
       "<div>\n",
       "<table border=\"1\" class=\"dataframe\">\n",
       "  <thead>\n",
       "    <tr style=\"text-align: right;\">\n",
       "      <th></th>\n",
       "      <th>code</th>\n",
       "      <th>nav</th>\n",
       "      <th>date_time</th>\n",
       "    </tr>\n",
       "    <tr>\n",
       "      <th>date_time</th>\n",
       "      <th></th>\n",
       "      <th></th>\n",
       "      <th></th>\n",
       "    </tr>\n",
       "  </thead>\n",
       "  <tbody>\n",
       "    <tr>\n",
       "      <th>2016-01-04</th>\n",
       "      <td>1</td>\n",
       "      <td>0.999001</td>\n",
       "      <td>2016-01-04</td>\n",
       "    </tr>\n",
       "    <tr>\n",
       "      <th>2016-01-05</th>\n",
       "      <td>1</td>\n",
       "      <td>1.000297</td>\n",
       "      <td>2016-01-05</td>\n",
       "    </tr>\n",
       "    <tr>\n",
       "      <th>2016-01-06</th>\n",
       "      <td>1</td>\n",
       "      <td>1.004318</td>\n",
       "      <td>2016-01-06</td>\n",
       "    </tr>\n",
       "    <tr>\n",
       "      <th>2016-01-07</th>\n",
       "      <td>1</td>\n",
       "      <td>1.005256</td>\n",
       "      <td>2016-01-07</td>\n",
       "    </tr>\n",
       "    <tr>\n",
       "      <th>2016-01-08</th>\n",
       "      <td>1</td>\n",
       "      <td>1.007626</td>\n",
       "      <td>2016-01-08</td>\n",
       "    </tr>\n",
       "  </tbody>\n",
       "</table>\n",
       "</div>"
      ],
      "text/plain": [
       "            code       nav   date_time\n",
       "date_time                             \n",
       "2016-01-04     1  0.999001  2016-01-04\n",
       "2016-01-05     1  1.000297  2016-01-05\n",
       "2016-01-06     1  1.004318  2016-01-06\n",
       "2016-01-07     1  1.005256  2016-01-07\n",
       "2016-01-08     1  1.007626  2016-01-08"
      ]
     },
     "execution_count": 6,
     "metadata": {},
     "output_type": "execute_result"
    },
    {
     "data": {
      "text/html": [
       "<div>\n",
       "<table border=\"1\" class=\"dataframe\">\n",
       "  <thead>\n",
       "    <tr style=\"text-align: right;\">\n",
       "      <th></th>\n",
       "      <th>code</th>\n",
       "      <th>nav</th>\n",
       "      <th>date_time</th>\n",
       "    </tr>\n",
       "    <tr>\n",
       "      <th>date_time</th>\n",
       "      <th></th>\n",
       "      <th></th>\n",
       "      <th></th>\n",
       "    </tr>\n",
       "  </thead>\n",
       "  <tbody>\n",
       "    <tr>\n",
       "      <th>2016-01-07</th>\n",
       "      <td>1</td>\n",
       "      <td>1.005256</td>\n",
       "      <td>2016-01-07</td>\n",
       "    </tr>\n",
       "    <tr>\n",
       "      <th>2016-01-08</th>\n",
       "      <td>1</td>\n",
       "      <td>1.007626</td>\n",
       "      <td>2016-01-08</td>\n",
       "    </tr>\n",
       "    <tr>\n",
       "      <th>2016-01-11</th>\n",
       "      <td>1</td>\n",
       "      <td>1.005755</td>\n",
       "      <td>2016-01-11</td>\n",
       "    </tr>\n",
       "    <tr>\n",
       "      <th>2016-01-12</th>\n",
       "      <td>1</td>\n",
       "      <td>1.005256</td>\n",
       "      <td>2016-01-12</td>\n",
       "    </tr>\n",
       "    <tr>\n",
       "      <th>2016-01-13</th>\n",
       "      <td>1</td>\n",
       "      <td>1.001813</td>\n",
       "      <td>2016-01-13</td>\n",
       "    </tr>\n",
       "  </tbody>\n",
       "</table>\n",
       "</div>"
      ],
      "text/plain": [
       "            code       nav   date_time\n",
       "date_time                             \n",
       "2016-01-07     1  1.005256  2016-01-07\n",
       "2016-01-08     1  1.007626  2016-01-08\n",
       "2016-01-11     1  1.005755  2016-01-11\n",
       "2016-01-12     1  1.005256  2016-01-12\n",
       "2016-01-13     1  1.001813  2016-01-13"
      ]
     },
     "execution_count": 6,
     "metadata": {},
     "output_type": "execute_result"
    }
   ],
   "source": [
    "df1 = df_nav[df_nav.code == 1][0:5]\n",
    "df2 = df_nav[df_nav.code == 1][3:8]\n",
    "df1\n",
    "df2"
   ]
  },
  {
   "cell_type": "markdown",
   "metadata": {},
   "source": [
    "### concat"
   ]
  },
  {
   "cell_type": "code",
   "execution_count": 7,
   "metadata": {
    "collapsed": false
   },
   "outputs": [
    {
     "data": {
      "text/html": [
       "<div>\n",
       "<table border=\"1\" class=\"dataframe\">\n",
       "  <thead>\n",
       "    <tr style=\"text-align: right;\">\n",
       "      <th></th>\n",
       "      <th>code</th>\n",
       "      <th>nav</th>\n",
       "      <th>date_time</th>\n",
       "      <th>code</th>\n",
       "      <th>nav</th>\n",
       "      <th>date_time</th>\n",
       "    </tr>\n",
       "    <tr>\n",
       "      <th>date_time</th>\n",
       "      <th></th>\n",
       "      <th></th>\n",
       "      <th></th>\n",
       "      <th></th>\n",
       "      <th></th>\n",
       "      <th></th>\n",
       "    </tr>\n",
       "  </thead>\n",
       "  <tbody>\n",
       "    <tr>\n",
       "      <th>2016-01-07</th>\n",
       "      <td>1</td>\n",
       "      <td>1.005256</td>\n",
       "      <td>2016-01-07</td>\n",
       "      <td>1</td>\n",
       "      <td>1.005256</td>\n",
       "      <td>2016-01-07</td>\n",
       "    </tr>\n",
       "    <tr>\n",
       "      <th>2016-01-08</th>\n",
       "      <td>1</td>\n",
       "      <td>1.007626</td>\n",
       "      <td>2016-01-08</td>\n",
       "      <td>1</td>\n",
       "      <td>1.007626</td>\n",
       "      <td>2016-01-08</td>\n",
       "    </tr>\n",
       "  </tbody>\n",
       "</table>\n",
       "</div>"
      ],
      "text/plain": [
       "            code       nav   date_time  code       nav   date_time\n",
       "date_time                                                         \n",
       "2016-01-07     1  1.005256  2016-01-07     1  1.005256  2016-01-07\n",
       "2016-01-08     1  1.007626  2016-01-08     1  1.007626  2016-01-08"
      ]
     },
     "execution_count": 7,
     "metadata": {},
     "output_type": "execute_result"
    },
    {
     "data": {
      "text/html": [
       "<div>\n",
       "<table border=\"1\" class=\"dataframe\">\n",
       "  <thead>\n",
       "    <tr style=\"text-align: right;\">\n",
       "      <th></th>\n",
       "      <th>nav</th>\n",
       "      <th>nav</th>\n",
       "    </tr>\n",
       "    <tr>\n",
       "      <th>date_time</th>\n",
       "      <th></th>\n",
       "      <th></th>\n",
       "    </tr>\n",
       "  </thead>\n",
       "  <tbody>\n",
       "    <tr>\n",
       "      <th>2016-01-07</th>\n",
       "      <td>1.005256</td>\n",
       "      <td>1.005256</td>\n",
       "    </tr>\n",
       "    <tr>\n",
       "      <th>2016-01-08</th>\n",
       "      <td>1.007626</td>\n",
       "      <td>1.007626</td>\n",
       "    </tr>\n",
       "  </tbody>\n",
       "</table>\n",
       "</div>"
      ],
      "text/plain": [
       "                 nav       nav\n",
       "date_time                     \n",
       "2016-01-07  1.005256  1.005256\n",
       "2016-01-08  1.007626  1.007626"
      ]
     },
     "execution_count": 7,
     "metadata": {},
     "output_type": "execute_result"
    }
   ],
   "source": [
    "# 行连接\n",
    "df3 = pd.concat([df1, df2])\n",
    "# 列连接\n",
    "df4 = pd.concat([df1, df2], axis=1)\n",
    "# 只连接相同索引的数据 内连接\n",
    "df5 = pd.concat([df1,df2],axis=1,join='inner')\n",
    "# 外连接\n",
    "df6 = pd.concat([df1,df2],axis=1,join='outer')\n",
    "# df3\n",
    "# df4\n",
    "df5\n",
    "df5['nav']"
   ]
  },
  {
   "cell_type": "markdown",
   "metadata": {},
   "source": [
    "### append"
   ]
  },
  {
   "cell_type": "code",
   "execution_count": 8,
   "metadata": {
    "collapsed": false
   },
   "outputs": [
    {
     "data": {
      "text/html": [
       "<div>\n",
       "<table border=\"1\" class=\"dataframe\">\n",
       "  <thead>\n",
       "    <tr style=\"text-align: right;\">\n",
       "      <th></th>\n",
       "      <th>code</th>\n",
       "      <th>date_time</th>\n",
       "      <th>nav</th>\n",
       "      <th>pct</th>\n",
       "    </tr>\n",
       "    <tr>\n",
       "      <th>date_time</th>\n",
       "      <th></th>\n",
       "      <th></th>\n",
       "      <th></th>\n",
       "      <th></th>\n",
       "    </tr>\n",
       "  </thead>\n",
       "  <tbody>\n",
       "    <tr>\n",
       "      <th>2016-01-04</th>\n",
       "      <td>1</td>\n",
       "      <td>2016-01-04</td>\n",
       "      <td>0.999001</td>\n",
       "      <td>NaN</td>\n",
       "    </tr>\n",
       "    <tr>\n",
       "      <th>2016-01-05</th>\n",
       "      <td>1</td>\n",
       "      <td>2016-01-05</td>\n",
       "      <td>1.000297</td>\n",
       "      <td>NaN</td>\n",
       "    </tr>\n",
       "    <tr>\n",
       "      <th>2016-01-06</th>\n",
       "      <td>1</td>\n",
       "      <td>2016-01-06</td>\n",
       "      <td>1.004318</td>\n",
       "      <td>NaN</td>\n",
       "    </tr>\n",
       "    <tr>\n",
       "      <th>2016-01-07</th>\n",
       "      <td>1</td>\n",
       "      <td>2016-01-07</td>\n",
       "      <td>1.005256</td>\n",
       "      <td>NaN</td>\n",
       "    </tr>\n",
       "    <tr>\n",
       "      <th>2016-01-08</th>\n",
       "      <td>1</td>\n",
       "      <td>2016-01-08</td>\n",
       "      <td>1.007626</td>\n",
       "      <td>NaN</td>\n",
       "    </tr>\n",
       "    <tr>\n",
       "      <th>2016-01-07</th>\n",
       "      <td>1</td>\n",
       "      <td>2016-01-07</td>\n",
       "      <td>1.005256</td>\n",
       "      <td>NaN</td>\n",
       "    </tr>\n",
       "    <tr>\n",
       "      <th>2016-01-08</th>\n",
       "      <td>1</td>\n",
       "      <td>2016-01-08</td>\n",
       "      <td>1.007626</td>\n",
       "      <td>0.002357</td>\n",
       "    </tr>\n",
       "    <tr>\n",
       "      <th>2016-01-11</th>\n",
       "      <td>1</td>\n",
       "      <td>2016-01-11</td>\n",
       "      <td>1.005755</td>\n",
       "      <td>-0.001857</td>\n",
       "    </tr>\n",
       "    <tr>\n",
       "      <th>2016-01-12</th>\n",
       "      <td>1</td>\n",
       "      <td>2016-01-12</td>\n",
       "      <td>1.005256</td>\n",
       "      <td>-0.000496</td>\n",
       "    </tr>\n",
       "    <tr>\n",
       "      <th>2016-01-13</th>\n",
       "      <td>1</td>\n",
       "      <td>2016-01-13</td>\n",
       "      <td>1.001813</td>\n",
       "      <td>-0.003425</td>\n",
       "    </tr>\n",
       "  </tbody>\n",
       "</table>\n",
       "</div>"
      ],
      "text/plain": [
       "            code   date_time       nav       pct\n",
       "date_time                                       \n",
       "2016-01-04     1  2016-01-04  0.999001       NaN\n",
       "2016-01-05     1  2016-01-05  1.000297       NaN\n",
       "2016-01-06     1  2016-01-06  1.004318       NaN\n",
       "2016-01-07     1  2016-01-07  1.005256       NaN\n",
       "2016-01-08     1  2016-01-08  1.007626       NaN\n",
       "2016-01-07     1  2016-01-07  1.005256       NaN\n",
       "2016-01-08     1  2016-01-08  1.007626  0.002357\n",
       "2016-01-11     1  2016-01-11  1.005755 -0.001857\n",
       "2016-01-12     1  2016-01-12  1.005256 -0.000496\n",
       "2016-01-13     1  2016-01-13  1.001813 -0.003425"
      ]
     },
     "execution_count": 8,
     "metadata": {},
     "output_type": "execute_result"
    }
   ],
   "source": [
    "df3 = df1.append(df2)\n",
    "df4 = df1.append(df2,ignore_index=True)\n",
    "df2['pct'] = df2['nav'].pct_change()\n",
    "# 使用append，行和列都会填充\n",
    "df5 = df1.append(df2)\n",
    "df5"
   ]
  },
  {
   "cell_type": "markdown",
   "metadata": {},
   "source": [
    "### join"
   ]
  },
  {
   "cell_type": "code",
   "execution_count": 9,
   "metadata": {
    "collapsed": false
   },
   "outputs": [
    {
     "data": {
      "text/html": [
       "<div>\n",
       "<table border=\"1\" class=\"dataframe\">\n",
       "  <thead>\n",
       "    <tr style=\"text-align: right;\">\n",
       "      <th></th>\n",
       "      <th>code1</th>\n",
       "      <th>nav1</th>\n",
       "      <th>date_time1</th>\n",
       "      <th>code2</th>\n",
       "      <th>nav2</th>\n",
       "      <th>date_time2</th>\n",
       "      <th>pct</th>\n",
       "    </tr>\n",
       "    <tr>\n",
       "      <th>date_time</th>\n",
       "      <th></th>\n",
       "      <th></th>\n",
       "      <th></th>\n",
       "      <th></th>\n",
       "      <th></th>\n",
       "      <th></th>\n",
       "      <th></th>\n",
       "    </tr>\n",
       "  </thead>\n",
       "  <tbody>\n",
       "    <tr>\n",
       "      <th>2016-01-04</th>\n",
       "      <td>1</td>\n",
       "      <td>0.999001</td>\n",
       "      <td>2016-01-04</td>\n",
       "      <td>NaN</td>\n",
       "      <td>NaN</td>\n",
       "      <td>NaN</td>\n",
       "      <td>NaN</td>\n",
       "    </tr>\n",
       "    <tr>\n",
       "      <th>2016-01-05</th>\n",
       "      <td>1</td>\n",
       "      <td>1.000297</td>\n",
       "      <td>2016-01-05</td>\n",
       "      <td>NaN</td>\n",
       "      <td>NaN</td>\n",
       "      <td>NaN</td>\n",
       "      <td>NaN</td>\n",
       "    </tr>\n",
       "    <tr>\n",
       "      <th>2016-01-06</th>\n",
       "      <td>1</td>\n",
       "      <td>1.004318</td>\n",
       "      <td>2016-01-06</td>\n",
       "      <td>NaN</td>\n",
       "      <td>NaN</td>\n",
       "      <td>NaN</td>\n",
       "      <td>NaN</td>\n",
       "    </tr>\n",
       "    <tr>\n",
       "      <th>2016-01-07</th>\n",
       "      <td>1</td>\n",
       "      <td>1.005256</td>\n",
       "      <td>2016-01-07</td>\n",
       "      <td>1.0</td>\n",
       "      <td>1.005256</td>\n",
       "      <td>2016-01-07</td>\n",
       "      <td>NaN</td>\n",
       "    </tr>\n",
       "    <tr>\n",
       "      <th>2016-01-08</th>\n",
       "      <td>1</td>\n",
       "      <td>1.007626</td>\n",
       "      <td>2016-01-08</td>\n",
       "      <td>1.0</td>\n",
       "      <td>1.007626</td>\n",
       "      <td>2016-01-08</td>\n",
       "      <td>0.002357</td>\n",
       "    </tr>\n",
       "  </tbody>\n",
       "</table>\n",
       "</div>"
      ],
      "text/plain": [
       "            code1      nav1  date_time1  code2      nav2  date_time2       pct\n",
       "date_time                                                                     \n",
       "2016-01-04      1  0.999001  2016-01-04    NaN       NaN         NaN       NaN\n",
       "2016-01-05      1  1.000297  2016-01-05    NaN       NaN         NaN       NaN\n",
       "2016-01-06      1  1.004318  2016-01-06    NaN       NaN         NaN       NaN\n",
       "2016-01-07      1  1.005256  2016-01-07    1.0  1.005256  2016-01-07       NaN\n",
       "2016-01-08      1  1.007626  2016-01-08    1.0  1.007626  2016-01-08  0.002357"
      ]
     },
     "execution_count": 9,
     "metadata": {},
     "output_type": "execute_result"
    },
    {
     "data": {
      "text/html": [
       "<div>\n",
       "<table border=\"1\" class=\"dataframe\">\n",
       "  <thead>\n",
       "    <tr style=\"text-align: right;\">\n",
       "      <th></th>\n",
       "      <th>code1</th>\n",
       "      <th>nav1</th>\n",
       "      <th>date_time1</th>\n",
       "      <th>code2</th>\n",
       "      <th>nav2</th>\n",
       "      <th>date_time2</th>\n",
       "      <th>pct</th>\n",
       "    </tr>\n",
       "    <tr>\n",
       "      <th>date_time</th>\n",
       "      <th></th>\n",
       "      <th></th>\n",
       "      <th></th>\n",
       "      <th></th>\n",
       "      <th></th>\n",
       "      <th></th>\n",
       "      <th></th>\n",
       "    </tr>\n",
       "  </thead>\n",
       "  <tbody>\n",
       "    <tr>\n",
       "      <th>2016-01-07</th>\n",
       "      <td>1</td>\n",
       "      <td>1.005256</td>\n",
       "      <td>2016-01-07</td>\n",
       "      <td>1</td>\n",
       "      <td>1.005256</td>\n",
       "      <td>2016-01-07</td>\n",
       "      <td>NaN</td>\n",
       "    </tr>\n",
       "    <tr>\n",
       "      <th>2016-01-08</th>\n",
       "      <td>1</td>\n",
       "      <td>1.007626</td>\n",
       "      <td>2016-01-08</td>\n",
       "      <td>1</td>\n",
       "      <td>1.007626</td>\n",
       "      <td>2016-01-08</td>\n",
       "      <td>0.002357</td>\n",
       "    </tr>\n",
       "  </tbody>\n",
       "</table>\n",
       "</div>"
      ],
      "text/plain": [
       "            code1      nav1  date_time1  code2      nav2  date_time2       pct\n",
       "date_time                                                                     \n",
       "2016-01-07      1  1.005256  2016-01-07      1  1.005256  2016-01-07       NaN\n",
       "2016-01-08      1  1.007626  2016-01-08      1  1.007626  2016-01-08  0.002357"
      ]
     },
     "execution_count": 9,
     "metadata": {},
     "output_type": "execute_result"
    },
    {
     "data": {
      "text/html": [
       "<div>\n",
       "<table border=\"1\" class=\"dataframe\">\n",
       "  <thead>\n",
       "    <tr style=\"text-align: right;\">\n",
       "      <th></th>\n",
       "      <th>code1</th>\n",
       "      <th>nav1</th>\n",
       "      <th>date_time1</th>\n",
       "      <th>code2</th>\n",
       "      <th>nav2</th>\n",
       "      <th>date_time2</th>\n",
       "      <th>pct</th>\n",
       "    </tr>\n",
       "    <tr>\n",
       "      <th>date_time</th>\n",
       "      <th></th>\n",
       "      <th></th>\n",
       "      <th></th>\n",
       "      <th></th>\n",
       "      <th></th>\n",
       "      <th></th>\n",
       "      <th></th>\n",
       "    </tr>\n",
       "  </thead>\n",
       "  <tbody>\n",
       "    <tr>\n",
       "      <th>2016-01-04</th>\n",
       "      <td>1.0</td>\n",
       "      <td>0.999001</td>\n",
       "      <td>2016-01-04</td>\n",
       "      <td>NaN</td>\n",
       "      <td>NaN</td>\n",
       "      <td>NaN</td>\n",
       "      <td>NaN</td>\n",
       "    </tr>\n",
       "    <tr>\n",
       "      <th>2016-01-05</th>\n",
       "      <td>1.0</td>\n",
       "      <td>1.000297</td>\n",
       "      <td>2016-01-05</td>\n",
       "      <td>NaN</td>\n",
       "      <td>NaN</td>\n",
       "      <td>NaN</td>\n",
       "      <td>NaN</td>\n",
       "    </tr>\n",
       "    <tr>\n",
       "      <th>2016-01-06</th>\n",
       "      <td>1.0</td>\n",
       "      <td>1.004318</td>\n",
       "      <td>2016-01-06</td>\n",
       "      <td>NaN</td>\n",
       "      <td>NaN</td>\n",
       "      <td>NaN</td>\n",
       "      <td>NaN</td>\n",
       "    </tr>\n",
       "    <tr>\n",
       "      <th>2016-01-07</th>\n",
       "      <td>1.0</td>\n",
       "      <td>1.005256</td>\n",
       "      <td>2016-01-07</td>\n",
       "      <td>1.0</td>\n",
       "      <td>1.005256</td>\n",
       "      <td>2016-01-07</td>\n",
       "      <td>NaN</td>\n",
       "    </tr>\n",
       "    <tr>\n",
       "      <th>2016-01-08</th>\n",
       "      <td>1.0</td>\n",
       "      <td>1.007626</td>\n",
       "      <td>2016-01-08</td>\n",
       "      <td>1.0</td>\n",
       "      <td>1.007626</td>\n",
       "      <td>2016-01-08</td>\n",
       "      <td>0.002357</td>\n",
       "    </tr>\n",
       "    <tr>\n",
       "      <th>2016-01-11</th>\n",
       "      <td>NaN</td>\n",
       "      <td>NaN</td>\n",
       "      <td>NaN</td>\n",
       "      <td>1.0</td>\n",
       "      <td>1.005755</td>\n",
       "      <td>2016-01-11</td>\n",
       "      <td>-0.001857</td>\n",
       "    </tr>\n",
       "    <tr>\n",
       "      <th>2016-01-12</th>\n",
       "      <td>NaN</td>\n",
       "      <td>NaN</td>\n",
       "      <td>NaN</td>\n",
       "      <td>1.0</td>\n",
       "      <td>1.005256</td>\n",
       "      <td>2016-01-12</td>\n",
       "      <td>-0.000496</td>\n",
       "    </tr>\n",
       "    <tr>\n",
       "      <th>2016-01-13</th>\n",
       "      <td>NaN</td>\n",
       "      <td>NaN</td>\n",
       "      <td>NaN</td>\n",
       "      <td>1.0</td>\n",
       "      <td>1.001813</td>\n",
       "      <td>2016-01-13</td>\n",
       "      <td>-0.003425</td>\n",
       "    </tr>\n",
       "  </tbody>\n",
       "</table>\n",
       "</div>"
      ],
      "text/plain": [
       "            code1      nav1  date_time1  code2      nav2  date_time2       pct\n",
       "date_time                                                                     \n",
       "2016-01-04    1.0  0.999001  2016-01-04    NaN       NaN         NaN       NaN\n",
       "2016-01-05    1.0  1.000297  2016-01-05    NaN       NaN         NaN       NaN\n",
       "2016-01-06    1.0  1.004318  2016-01-06    NaN       NaN         NaN       NaN\n",
       "2016-01-07    1.0  1.005256  2016-01-07    1.0  1.005256  2016-01-07       NaN\n",
       "2016-01-08    1.0  1.007626  2016-01-08    1.0  1.007626  2016-01-08  0.002357\n",
       "2016-01-11    NaN       NaN         NaN    1.0  1.005755  2016-01-11 -0.001857\n",
       "2016-01-12    NaN       NaN         NaN    1.0  1.005256  2016-01-12 -0.000496\n",
       "2016-01-13    NaN       NaN         NaN    1.0  1.001813  2016-01-13 -0.003425"
      ]
     },
     "execution_count": 9,
     "metadata": {},
     "output_type": "execute_result"
    }
   ],
   "source": [
    "#笛卡尔积 \n",
    "# lsuffix:df1的column后缀 rsuffix：df2的column后缀 默认左连接\n",
    "df1.join(df2,how='left',lsuffix='1',rsuffix='2')\n",
    "#内连接\n",
    "# 等同于\n",
    "df1.join(df2,how='inner',lsuffix='1',rsuffix='2')\n",
    "#外连接\n",
    "df1.join(df2,how='outer',lsuffix='1',rsuffix='2')"
   ]
  },
  {
   "cell_type": "markdown",
   "metadata": {},
   "source": [
    "### merge"
   ]
  },
  {
   "cell_type": "code",
   "execution_count": 10,
   "metadata": {
    "collapsed": false
   },
   "outputs": [
    {
     "data": {
      "text/html": [
       "<div>\n",
       "<table border=\"1\" class=\"dataframe\">\n",
       "  <thead>\n",
       "    <tr style=\"text-align: right;\">\n",
       "      <th></th>\n",
       "      <th>code</th>\n",
       "      <th>nav_x</th>\n",
       "      <th>date_time</th>\n",
       "      <th>nav_y</th>\n",
       "      <th>pct</th>\n",
       "    </tr>\n",
       "  </thead>\n",
       "  <tbody>\n",
       "    <tr>\n",
       "      <th>0</th>\n",
       "      <td>1</td>\n",
       "      <td>1.005256</td>\n",
       "      <td>2016-01-07</td>\n",
       "      <td>1.005256</td>\n",
       "      <td>NaN</td>\n",
       "    </tr>\n",
       "    <tr>\n",
       "      <th>1</th>\n",
       "      <td>1</td>\n",
       "      <td>1.007626</td>\n",
       "      <td>2016-01-08</td>\n",
       "      <td>1.007626</td>\n",
       "      <td>0.002357</td>\n",
       "    </tr>\n",
       "  </tbody>\n",
       "</table>\n",
       "</div>"
      ],
      "text/plain": [
       "   code     nav_x   date_time     nav_y       pct\n",
       "0     1  1.005256  2016-01-07  1.005256       NaN\n",
       "1     1  1.007626  2016-01-08  1.007626  0.002357"
      ]
     },
     "execution_count": 10,
     "metadata": {},
     "output_type": "execute_result"
    }
   ],
   "source": [
    "#默认 inner\n",
    "df3 = pd.merge(df1, df2, how='inner', on=['code'])\n",
    "# df3\n",
    "# 等同 df1.merge(df2,on=['code','date_time'])\n",
    "df4 = pd.merge(df1, df2, how='inner', on=['code','date_time'])\n",
    "df4"
   ]
  },
  {
   "cell_type": "markdown",
   "metadata": {},
   "source": [
    "## 分组(groupby)"
   ]
  },
  {
   "cell_type": "code",
   "execution_count": 11,
   "metadata": {
    "collapsed": false
   },
   "outputs": [
    {
     "data": {
      "text/html": [
       "<div>\n",
       "<table border=\"1\" class=\"dataframe\">\n",
       "  <thead>\n",
       "    <tr style=\"text-align: right;\">\n",
       "      <th></th>\n",
       "      <th>code</th>\n",
       "      <th>nav</th>\n",
       "      <th>date_time</th>\n",
       "    </tr>\n",
       "    <tr>\n",
       "      <th>date_time</th>\n",
       "      <th></th>\n",
       "      <th></th>\n",
       "      <th></th>\n",
       "    </tr>\n",
       "  </thead>\n",
       "  <tbody>\n",
       "    <tr>\n",
       "      <th>2016-01-04</th>\n",
       "      <td>1</td>\n",
       "      <td>0.999001</td>\n",
       "      <td>2016-01-04</td>\n",
       "    </tr>\n",
       "  </tbody>\n",
       "</table>\n",
       "</div>"
      ],
      "text/plain": [
       "            code       nav   date_time\n",
       "date_time                             \n",
       "2016-01-04     1  0.999001  2016-01-04"
      ]
     },
     "execution_count": 11,
     "metadata": {},
     "output_type": "execute_result"
    }
   ],
   "source": [
    "nav_groups = df_nav.groupby(['code','date_time'])\n",
    "# 如果只是想分组，而不想reduce，可以使用set_index重建索引实 todo \n",
    "for name,values in nav_groups:\n",
    "    #values是DataFrame类型\n",
    "#     print name,values\n",
    "    pass\n",
    "# 根据key值获取分组\n",
    "nav_groups.get_group((1,u'2016-01-04'))\n",
    "# 分组转成词典\n",
    "# nav_dic=dict(list(nav_groups))"
   ]
  },
  {
   "cell_type": "code",
   "execution_count": 12,
   "metadata": {
    "collapsed": false
   },
   "outputs": [
    {
     "data": {
      "text/html": [
       "<div>\n",
       "<table border=\"1\" class=\"dataframe\">\n",
       "  <thead>\n",
       "    <tr>\n",
       "      <th></th>\n",
       "      <th colspan=\"5\" halign=\"left\">nav</th>\n",
       "    </tr>\n",
       "    <tr>\n",
       "      <th></th>\n",
       "      <th>mean</th>\n",
       "      <th>max</th>\n",
       "      <th>min</th>\n",
       "      <th>sum</th>\n",
       "      <th>std</th>\n",
       "    </tr>\n",
       "    <tr>\n",
       "      <th>code</th>\n",
       "      <th></th>\n",
       "      <th></th>\n",
       "      <th></th>\n",
       "      <th></th>\n",
       "      <th></th>\n",
       "    </tr>\n",
       "  </thead>\n",
       "  <tbody>\n",
       "    <tr>\n",
       "      <th>1</th>\n",
       "      <td>1.077007</td>\n",
       "      <td>1.164345</td>\n",
       "      <td>0.954329</td>\n",
       "      <td>498.654356</td>\n",
       "      <td>0.039668</td>\n",
       "    </tr>\n",
       "    <tr>\n",
       "      <th>2</th>\n",
       "      <td>1.010305</td>\n",
       "      <td>1.043501</td>\n",
       "      <td>0.964726</td>\n",
       "      <td>467.771125</td>\n",
       "      <td>0.016460</td>\n",
       "    </tr>\n",
       "  </tbody>\n",
       "</table>\n",
       "</div>"
      ],
      "text/plain": [
       "           nav                                          \n",
       "          mean       max       min         sum       std\n",
       "code                                                    \n",
       "1     1.077007  1.164345  0.954329  498.654356  0.039668\n",
       "2     1.010305  1.043501  0.964726  467.771125  0.016460"
      ]
     },
     "execution_count": 12,
     "metadata": {},
     "output_type": "execute_result"
    },
    {
     "data": {
      "text/html": [
       "<div>\n",
       "<table border=\"1\" class=\"dataframe\">\n",
       "  <thead>\n",
       "    <tr style=\"text-align: right;\">\n",
       "      <th></th>\n",
       "      <th>code</th>\n",
       "      <th>nav</th>\n",
       "    </tr>\n",
       "    <tr>\n",
       "      <th>code</th>\n",
       "      <th></th>\n",
       "      <th></th>\n",
       "    </tr>\n",
       "  </thead>\n",
       "  <tbody>\n",
       "    <tr>\n",
       "      <th>1</th>\n",
       "      <td>1.0</td>\n",
       "      <td>1.077007</td>\n",
       "    </tr>\n",
       "    <tr>\n",
       "      <th>2</th>\n",
       "      <td>2.0</td>\n",
       "      <td>1.010305</td>\n",
       "    </tr>\n",
       "  </tbody>\n",
       "</table>\n",
       "</div>"
      ],
      "text/plain": [
       "      code       nav\n",
       "code                \n",
       "1      1.0  1.077007\n",
       "2      2.0  1.010305"
      ]
     },
     "execution_count": 12,
     "metadata": {},
     "output_type": "execute_result"
    },
    {
     "data": {
      "text/html": [
       "<div>\n",
       "<table border=\"1\" class=\"dataframe\">\n",
       "  <thead>\n",
       "    <tr style=\"text-align: right;\">\n",
       "      <th></th>\n",
       "      <th>code</th>\n",
       "      <th>0</th>\n",
       "    </tr>\n",
       "  </thead>\n",
       "  <tbody>\n",
       "    <tr>\n",
       "      <th>0</th>\n",
       "      <td>1</td>\n",
       "      <td>0.039625</td>\n",
       "    </tr>\n",
       "    <tr>\n",
       "      <th>1</th>\n",
       "      <td>2</td>\n",
       "      <td>0.016442</td>\n",
       "    </tr>\n",
       "  </tbody>\n",
       "</table>\n",
       "</div>"
      ],
      "text/plain": [
       "   code         0\n",
       "0     1  0.039625\n",
       "1     2  0.016442"
      ]
     },
     "execution_count": 12,
     "metadata": {},
     "output_type": "execute_result"
    }
   ],
   "source": [
    "df_groups = df_nav.groupby(['code'])\n",
    "# 对分组套用函数\n",
    "df_groups.agg(['mean','max','min','sum','std']).head()\n",
    "df_groups.apply(lambda x:x.mean()).head()\n",
    "# 返回的是Series ，使用reset_index() 转df\n",
    "df_groups.apply(lambda df: np.std(df[\"nav\"])).reset_index()"
   ]
  },
  {
   "cell_type": "code",
   "execution_count": 13,
   "metadata": {
    "collapsed": false
   },
   "outputs": [
    {
     "data": {
      "text/html": [
       "<div>\n",
       "<table border=\"1\" class=\"dataframe\">\n",
       "  <thead>\n",
       "    <tr style=\"text-align: right;\">\n",
       "      <th></th>\n",
       "      <th></th>\n",
       "      <th>nav</th>\n",
       "    </tr>\n",
       "    <tr>\n",
       "      <th>code</th>\n",
       "      <th>date_time</th>\n",
       "      <th></th>\n",
       "    </tr>\n",
       "  </thead>\n",
       "  <tbody>\n",
       "    <tr>\n",
       "      <th rowspan=\"5\" valign=\"top\">1</th>\n",
       "      <th>2016-01-04</th>\n",
       "      <td>0.999001</td>\n",
       "    </tr>\n",
       "    <tr>\n",
       "      <th>2016-01-05</th>\n",
       "      <td>1.000297</td>\n",
       "    </tr>\n",
       "    <tr>\n",
       "      <th>2016-01-06</th>\n",
       "      <td>1.004318</td>\n",
       "    </tr>\n",
       "    <tr>\n",
       "      <th>2016-01-07</th>\n",
       "      <td>1.005256</td>\n",
       "    </tr>\n",
       "    <tr>\n",
       "      <th>2016-01-08</th>\n",
       "      <td>1.007626</td>\n",
       "    </tr>\n",
       "  </tbody>\n",
       "</table>\n",
       "</div>"
      ],
      "text/plain": [
       "                      nav\n",
       "code date_time           \n",
       "1    2016-01-04  0.999001\n",
       "     2016-01-05  1.000297\n",
       "     2016-01-06  1.004318\n",
       "     2016-01-07  1.005256\n",
       "     2016-01-08  1.007626"
      ]
     },
     "execution_count": 13,
     "metadata": {},
     "output_type": "execute_result"
    }
   ],
   "source": [
    "df3 = df_nav.groupby(['code', 'date_time']).mean()\n",
    "df3.head()"
   ]
  },
  {
   "cell_type": "markdown",
   "metadata": {},
   "source": [
    "## 窗口(rolling、expanding)"
   ]
  },
  {
   "cell_type": "code",
   "execution_count": 14,
   "metadata": {
    "collapsed": true
   },
   "outputs": [],
   "source": [
    "# 现在所有函数的使用方式变成 rolling(windows).func()\n",
    "# rolling_count                    返回各窗口非NA观测值的量\n",
    "# rolling_sum                      移动窗口的和\n",
    "# rolling_mean                     移动窗口的平均值\n",
    "# rolling_median                   移动窗口的中位数\n",
    "# rolling_var、rolling_std         移动窗口的方差和标准差。分母为n-1\n",
    "# rolling_skew、rolling_kurt       移动窗口的偏度（三阶矩）和峰度（四阶矩）\n",
    "# rolling_min、rolling_max         移动窗口的最小值和最大值\n",
    "# rolling_quantile                 移动窗口指定百分位数/样本分位数位置的值\n",
    "# rolling_corr、rolling_cov        移动窗口的相关系数和协方差\n",
    "# rolling_apply                    对移动窗口应用普通数组函数\n",
    "# ewma                             指数加权移动平均\n",
    "# ewmvar、ewmstd                   指数加权移动方差和标准差\n",
    "# ewmcorr、ewmcov                  指数加权移动相关系数和协方差"
   ]
  },
  {
   "cell_type": "code",
   "execution_count": 48,
   "metadata": {
    "collapsed": false
   },
   "outputs": [
    {
     "data": {
      "text/html": [
       "<div>\n",
       "<table border=\"1\" class=\"dataframe\">\n",
       "  <thead>\n",
       "    <tr style=\"text-align: right;\">\n",
       "      <th></th>\n",
       "      <th>code</th>\n",
       "      <th>nav</th>\n",
       "      <th>date_time</th>\n",
       "      <th>最近20个交易日的最高点</th>\n",
       "      <th>最近20个交易日的最低点</th>\n",
       "    </tr>\n",
       "    <tr>\n",
       "      <th>date_time</th>\n",
       "      <th></th>\n",
       "      <th></th>\n",
       "      <th></th>\n",
       "      <th></th>\n",
       "      <th></th>\n",
       "    </tr>\n",
       "  </thead>\n",
       "  <tbody>\n",
       "    <tr>\n",
       "      <th>2016-01-04</th>\n",
       "      <td>1</td>\n",
       "      <td>0.999001</td>\n",
       "      <td>2016-01-04</td>\n",
       "      <td>0.999001</td>\n",
       "      <td>0.999001</td>\n",
       "    </tr>\n",
       "    <tr>\n",
       "      <th>2016-01-04</th>\n",
       "      <td>2</td>\n",
       "      <td>0.999001</td>\n",
       "      <td>2016-01-04</td>\n",
       "      <td>0.999001</td>\n",
       "      <td>0.999001</td>\n",
       "    </tr>\n",
       "    <tr>\n",
       "      <th>2016-01-05</th>\n",
       "      <td>1</td>\n",
       "      <td>1.000297</td>\n",
       "      <td>2016-01-05</td>\n",
       "      <td>1.000297</td>\n",
       "      <td>0.999001</td>\n",
       "    </tr>\n",
       "    <tr>\n",
       "      <th>2016-01-05</th>\n",
       "      <td>2</td>\n",
       "      <td>1.000500</td>\n",
       "      <td>2016-01-05</td>\n",
       "      <td>1.000500</td>\n",
       "      <td>0.999001</td>\n",
       "    </tr>\n",
       "    <tr>\n",
       "      <th>2016-01-06</th>\n",
       "      <td>1</td>\n",
       "      <td>1.004318</td>\n",
       "      <td>2016-01-06</td>\n",
       "      <td>1.004318</td>\n",
       "      <td>0.999001</td>\n",
       "    </tr>\n",
       "  </tbody>\n",
       "</table>\n",
       "</div>"
      ],
      "text/plain": [
       "            code       nav   date_time  最近20个交易日的最高点  最近20个交易日的最低点\n",
       "date_time                                                         \n",
       "2016-01-04     1  0.999001  2016-01-04      0.999001      0.999001\n",
       "2016-01-04     2  0.999001  2016-01-04      0.999001      0.999001\n",
       "2016-01-05     1  1.000297  2016-01-05      1.000297      0.999001\n",
       "2016-01-05     2  1.000500  2016-01-05      1.000500      0.999001\n",
       "2016-01-06     1  1.004318  2016-01-06      1.004318      0.999001"
      ]
     },
     "execution_count": 48,
     "metadata": {},
     "output_type": "execute_result"
    }
   ],
   "source": [
    "# 滚动/滑动获取20日净值最高点\n",
    "df_nav['最近20个交易日的最高点'] = df_nav['nav'].rolling(20).max()\n",
    "# 用最大值fillna\n",
    "df_nav['最近20个交易日的最高点'].fillna(value=df_nav['nav'].expanding().max(),inplace=True)\n",
    "# 滚动/滑动获取20日净值最高点\n",
    "df_nav['最近20个交易日的最低点'] = df_nav['nav'].rolling(20).min()\n",
    "# 用最大值fillna\n",
    "df_nav['最近20个交易日的最低点'].fillna(value=df_nav['nav'].expanding().min(), inplace=True)\n",
    "df_nav.head()"
   ]
  },
  {
   "cell_type": "code",
   "execution_count": 59,
   "metadata": {
    "collapsed": false
   },
   "outputs": [
    {
     "data": {
      "text/plain": [
       "date_time\n",
       "2016-01-04         NaN\n",
       "2016-01-05    0.999649\n",
       "2016-01-06    1.002307\n",
       "2016-01-07    1.004787\n",
       "2016-01-08    1.006441\n",
       "Name: nav, dtype: float64"
      ]
     },
     "execution_count": 59,
     "metadata": {},
     "output_type": "execute_result"
    },
    {
     "data": {
      "text/plain": [
       "date_time\n",
       "2016-01-04         NaN\n",
       "2016-01-05    0.000916\n",
       "2016-01-06    0.002843\n",
       "2016-01-07    0.000664\n",
       "2016-01-08    0.001676\n",
       "Name: nav, dtype: float64"
      ]
     },
     "execution_count": 59,
     "metadata": {},
     "output_type": "execute_result"
    },
    {
     "data": {
      "text/plain": [
       "array([<matplotlib.axes._subplots.AxesSubplot object at 0x0000000009E76F98>,\n",
       "       <matplotlib.axes._subplots.AxesSubplot object at 0x000000000A66AC50>], dtype=object)"
      ]
     },
     "execution_count": 59,
     "metadata": {},
     "output_type": "execute_result"
    },
    {
     "data": {
      "image/png": "[encoded data removed]",
      "text/plain": [
       "<matplotlib.figure.Figure at 0xa492dd8>"
      ]
     },
     "metadata": {},
     "output_type": "display_data"
    },
    {
     "data": {
      "text/plain": [
       "<matplotlib.axes._subplots.AxesSubplot at 0x9e1fef0>"
      ]
     },
     "execution_count": 59,
     "metadata": {},
     "output_type": "execute_result"
    },
    {
     "data": {
      "image/png": "[encoded data removed]",
      "text/plain": [
       "<matplotlib.figure.Figure at 0x9ef15f8>"
      ]
     },
     "metadata": {},
     "output_type": "display_data"
    }
   ],
   "source": [
    "# 根据分组key获取分组\n",
    "df3 = df_nav.groupby('code').get_group(1)\n",
    "df4 = df3[0:5]\n",
    "# 滑动窗口平均\n",
    "df4['nav'].rolling(2).mean()\n",
    "df4['nav'].rolling(2).std()\n",
    "# 绘图\n",
    "# df3['nav'].plot(figsize=(9, 5), grid=True)\n",
    "# df3['nav'].rolling(10).mean().plot(figsize=(9, 5), grid=True)\n",
    "# 推荐使用方式 使用subplots控制在在同一张图还是两张图显示曲线\n",
    "df3.loc[:,'roll_mean'] = df3['nav'].rolling(10).mean()\n",
    "df3[['nav','roll_mean']].plot(subplots=True,figsize=(9, 5), grid=True)\n",
    "plt.show()\n",
    "df3[['nav','roll_mean']].plot(subplots=False,figsize=(9, 5), grid=True)\n",
    "plt.show()"
   ]
  },
  {
   "cell_type": "markdown",
   "metadata": {},
   "source": [
    "## 处理nan值 （fillna）"
   ]
  },
  {
   "cell_type": "markdown",
   "metadata": {},
   "source": [
    "1、方式1：把NaN直接作为一个特征，假设用0表示（精确，不丢失数据，特征维度高，计算量大）\n",
    "data_train.fillna(0) \n",
    "2、方式2：用均值填充 # 填充会产生人为噪声，计算简单\n",
    "data_train.fillna(data_train.mean()) \n",
    "3、方式3：用上下数据进行填充\n",
    "data_train.fillna(method='pad') # 用前一个数据 \n",
    "data_train.fillna(method='bfill') # 用后一个数据\n",
    "4、方式4：用插值法填充\n",
    "data_train.interpolate() # 插值法就是通过两点（x0，y0），（x1，y1）估计中间点的值 \n",
    "5、方式5：用算法拟合进行填充（如下）"
   ]
  },
  {
   "cell_type": "code",
   "execution_count": null,
   "metadata": {
    "collapsed": true
   },
   "outputs": [],
   "source": [
    "# 定义browse_his缺失值预测填充函数\n",
    "def set_missing_browse_his(df):\n",
    "     # 把已有的数值型特征取出来输入到RandomForestRegressor中\n",
    "     process_df = df[[browse_his' , 'gender', 'job', 'edu', 'marriage', 'family_type']]\n",
    "\n",
    "     # 乘客分成已知该特征和未知该特征两部分\n",
    "     known = process_df[process_df.browse_his.notnull()].as_matrix()\n",
    "     unknown = process_df[process_df.browse_his.isnull()].as_matrix()\n",
    "\n",
    "     # X为特征属性值\n",
    "     X = known[:, 1:]\n",
    "\n",
    "     # y为结果标签值\n",
    "     y = known[:, 0]\n",
    "\n",
    "     # fit到RandomForestRegressor之中\n",
    "     rfr = RandomForestRegressor(random_state=0, n_estimators=2000, n_jobs=-1)\n",
    "     rfr.fit(X,y)\n",
    "\n",
    "     # 用得到的模型进行未知特征值预测\n",
    "     predicted = rfr.predict(unknown[:, 1::])\n",
    "\n",
    "     # 用得到的预测结果填补原缺失数据\n",
    "     df.loc[(df.browse_his.isnull()), 'browse_his'] = predicted\n",
    "\n",
    "     return df, rfr\n",
    "\n",
    "data_train, rfr = set_missing_browse_his(data_train) "
   ]
  },
  {
   "cell_type": "code",
   "execution_count": 60,
   "metadata": {
    "collapsed": false
   },
   "outputs": [
    {
     "data": {
      "text/html": [
       "<div>\n",
       "<table border=\"1\" class=\"dataframe\">\n",
       "  <thead>\n",
       "    <tr style=\"text-align: right;\">\n",
       "      <th></th>\n",
       "      <th>code</th>\n",
       "      <th>nav</th>\n",
       "      <th>date_time</th>\n",
       "    </tr>\n",
       "    <tr>\n",
       "      <th>date_time</th>\n",
       "      <th></th>\n",
       "      <th></th>\n",
       "      <th></th>\n",
       "    </tr>\n",
       "  </thead>\n",
       "  <tbody>\n",
       "    <tr>\n",
       "      <th>2016-01-04</th>\n",
       "      <td>1</td>\n",
       "      <td>0.999001</td>\n",
       "      <td>2016-01-04</td>\n",
       "    </tr>\n",
       "    <tr>\n",
       "      <th>2016-01-05</th>\n",
       "      <td>1</td>\n",
       "      <td>NaN</td>\n",
       "      <td>2016-01-05</td>\n",
       "    </tr>\n",
       "    <tr>\n",
       "      <th>2016-01-06</th>\n",
       "      <td>1</td>\n",
       "      <td>1.004318</td>\n",
       "      <td>2016-01-06</td>\n",
       "    </tr>\n",
       "    <tr>\n",
       "      <th>2016-01-07</th>\n",
       "      <td>1</td>\n",
       "      <td>1.005256</td>\n",
       "      <td>2016-01-07</td>\n",
       "    </tr>\n",
       "    <tr>\n",
       "      <th>2016-01-08</th>\n",
       "      <td>1</td>\n",
       "      <td>1.007626</td>\n",
       "      <td>2016-01-08</td>\n",
       "    </tr>\n",
       "  </tbody>\n",
       "</table>\n",
       "</div>"
      ],
      "text/plain": [
       "            code       nav   date_time\n",
       "date_time                             \n",
       "2016-01-04     1  0.999001  2016-01-04\n",
       "2016-01-05     1       NaN  2016-01-05\n",
       "2016-01-06     1  1.004318  2016-01-06\n",
       "2016-01-07     1  1.005256  2016-01-07\n",
       "2016-01-08     1  1.007626  2016-01-08"
      ]
     },
     "execution_count": 60,
     "metadata": {},
     "output_type": "execute_result"
    },
    {
     "data": {
      "text/plain": [
       "date_time\n",
       "2016-01-04    0.999001\n",
       "2016-01-05    1.004050\n",
       "2016-01-06    1.004318\n",
       "2016-01-07    1.005256\n",
       "2016-01-08    1.007626\n",
       "Name: nav, dtype: float64"
      ]
     },
     "execution_count": 60,
     "metadata": {},
     "output_type": "execute_result"
    },
    {
     "data": {
      "text/plain": [
       "date_time\n",
       "2016-01-04    0.999001\n",
       "2016-01-05    0.999001\n",
       "2016-01-06    1.004318\n",
       "2016-01-07    1.005256\n",
       "2016-01-08    1.007626\n",
       "Name: nav, dtype: float64"
      ]
     },
     "execution_count": 60,
     "metadata": {},
     "output_type": "execute_result"
    },
    {
     "data": {
      "text/html": [
       "<div>\n",
       "<table border=\"1\" class=\"dataframe\">\n",
       "  <thead>\n",
       "    <tr style=\"text-align: right;\">\n",
       "      <th></th>\n",
       "      <th>code</th>\n",
       "      <th>nav</th>\n",
       "      <th>date_time</th>\n",
       "    </tr>\n",
       "    <tr>\n",
       "      <th>date_time</th>\n",
       "      <th></th>\n",
       "      <th></th>\n",
       "      <th></th>\n",
       "    </tr>\n",
       "  </thead>\n",
       "  <tbody>\n",
       "    <tr>\n",
       "      <th>2016-01-04</th>\n",
       "      <td>1</td>\n",
       "      <td>0.999001</td>\n",
       "      <td>2016-01-04</td>\n",
       "    </tr>\n",
       "    <tr>\n",
       "      <th>2016-01-05</th>\n",
       "      <td>1</td>\n",
       "      <td>1.000000</td>\n",
       "      <td>2016-01-05</td>\n",
       "    </tr>\n",
       "    <tr>\n",
       "      <th>2016-01-06</th>\n",
       "      <td>1</td>\n",
       "      <td>1.004318</td>\n",
       "      <td>2016-01-06</td>\n",
       "    </tr>\n",
       "    <tr>\n",
       "      <th>2016-01-07</th>\n",
       "      <td>1</td>\n",
       "      <td>1.005256</td>\n",
       "      <td>2016-01-07</td>\n",
       "    </tr>\n",
       "    <tr>\n",
       "      <th>2016-01-08</th>\n",
       "      <td>1</td>\n",
       "      <td>1.007626</td>\n",
       "      <td>2016-01-08</td>\n",
       "    </tr>\n",
       "  </tbody>\n",
       "</table>\n",
       "</div>"
      ],
      "text/plain": [
       "            code       nav   date_time\n",
       "date_time                             \n",
       "2016-01-04     1  0.999001  2016-01-04\n",
       "2016-01-05     1  1.000000  2016-01-05\n",
       "2016-01-06     1  1.004318  2016-01-06\n",
       "2016-01-07     1  1.005256  2016-01-07\n",
       "2016-01-08     1  1.007626  2016-01-08"
      ]
     },
     "execution_count": 60,
     "metadata": {},
     "output_type": "execute_result"
    }
   ],
   "source": [
    "# 这里有警告\n",
    "# df3.iloc[0]['nav'] = np.nan\n",
    "# df4.loc[index,'nav'] = np.nan\n",
    "df4.loc['2016-01-05','nav'] = np.nan\n",
    "df4\n",
    "# 用均值填充\n",
    "df4['nav'].fillna(df4['nav'].mean())\n",
    "# 用前一个数据填充 {'backfill', 'bfill', 'pad', 'ffill', None}\n",
    "# pad / ffill: propagate last valid observation forward to next valid\n",
    "# backfill / bfill: use NEXT valid observation to fill gap\n",
    "df4['nav'].fillna(method = 'pad')\n",
    "# 不同列填充不同值 df.fillna(value=values, limit=1) 还可以通过limit 指定填充多少个\n",
    "values = {'nav': 1, 'date_time': '2016-01-01'}\n",
    "df4.fillna(value=values)"
   ]
  },
  {
   "cell_type": "markdown",
   "metadata": {},
   "source": [
    "## 计算(apply、applymap、transform)"
   ]
  },
  {
   "cell_type": "markdown",
   "metadata": {},
   "source": [
    "> apply、applymap、map的区别：\n",
    "* 1、apply默认对行操作\n",
    "* 2、applymap 部分行、列，对所有元素进行操作。\n",
    "* 3、map 仅面向 Series 类型数据"
   ]
  },
  {
   "cell_type": "code",
   "execution_count": 121,
   "metadata": {
    "collapsed": false
   },
   "outputs": [
    {
     "data": {
      "text/html": [
       "<div>\n",
       "<table border=\"1\" class=\"dataframe\">\n",
       "  <thead>\n",
       "    <tr style=\"text-align: right;\">\n",
       "      <th></th>\n",
       "      <th>0</th>\n",
       "      <th>1</th>\n",
       "      <th>2</th>\n",
       "      <th>3</th>\n",
       "      <th>4</th>\n",
       "    </tr>\n",
       "  </thead>\n",
       "  <tbody>\n",
       "    <tr>\n",
       "      <th>0</th>\n",
       "      <td>0.169336</td>\n",
       "      <td>0.452196</td>\n",
       "      <td>0.768215</td>\n",
       "      <td>0.972052</td>\n",
       "      <td>0.501227</td>\n",
       "    </tr>\n",
       "    <tr>\n",
       "      <th>1</th>\n",
       "      <td>0.286954</td>\n",
       "      <td>0.202821</td>\n",
       "      <td>0.841470</td>\n",
       "      <td>0.260659</td>\n",
       "      <td>0.973660</td>\n",
       "    </tr>\n",
       "    <tr>\n",
       "      <th>2</th>\n",
       "      <td>0.752877</td>\n",
       "      <td>0.935245</td>\n",
       "      <td>0.243816</td>\n",
       "      <td>0.046755</td>\n",
       "      <td>0.650499</td>\n",
       "    </tr>\n",
       "  </tbody>\n",
       "</table>\n",
       "</div>"
      ],
      "text/plain": [
       "          0         1         2         3         4\n",
       "0  0.169336  0.452196  0.768215  0.972052  0.501227\n",
       "1  0.286954  0.202821  0.841470  0.260659  0.973660\n",
       "2  0.752877  0.935245  0.243816  0.046755  0.650499"
      ]
     },
     "execution_count": 121,
     "metadata": {},
     "output_type": "execute_result"
    },
    {
     "data": {
      "text/plain": [
       "0    0.583541\n",
       "1    0.732424\n",
       "2    0.597654\n",
       "3    0.925297\n",
       "4    0.472433\n",
       "dtype: float64"
      ]
     },
     "execution_count": 121,
     "metadata": {},
     "output_type": "execute_result"
    }
   ],
   "source": [
    "## apply\n",
    "df = pd.DataFrame(np.array([np.random.random(5),np.random.random(5),np.random.random(5)]))\n",
    "df.head()\n",
    "typefunc = lambda x :(x,type(x))\n",
    "f = lambda x: x.max() - x.min()\n",
    "# f = lambda x: x - x.min() # 错误：(x-x.mean())/x.std()\n",
    "# f = lambda x : (x,type(x)) pandas.Series\n",
    "df.apply(f) # 默认对行进行操作，获取每一行的最大值和最小值的差"
   ]
  },
  {
   "cell_type": "code",
   "execution_count": 111,
   "metadata": {
    "collapsed": false
   },
   "outputs": [
    {
     "data": {
      "text/html": [
       "<div>\n",
       "<table border=\"1\" class=\"dataframe\">\n",
       "  <thead>\n",
       "    <tr style=\"text-align: right;\">\n",
       "      <th></th>\n",
       "      <th>0</th>\n",
       "      <th>1</th>\n",
       "      <th>2</th>\n",
       "      <th>3</th>\n",
       "      <th>4</th>\n",
       "    </tr>\n",
       "  </thead>\n",
       "  <tbody>\n",
       "    <tr>\n",
       "      <th>0</th>\n",
       "      <td>0.64</td>\n",
       "      <td>0.26</td>\n",
       "      <td>0.69</td>\n",
       "      <td>0.90</td>\n",
       "      <td>0.20</td>\n",
       "    </tr>\n",
       "    <tr>\n",
       "      <th>1</th>\n",
       "      <td>0.83</td>\n",
       "      <td>0.49</td>\n",
       "      <td>0.90</td>\n",
       "      <td>0.42</td>\n",
       "      <td>0.32</td>\n",
       "    </tr>\n",
       "    <tr>\n",
       "      <th>2</th>\n",
       "      <td>0.90</td>\n",
       "      <td>0.54</td>\n",
       "      <td>0.41</td>\n",
       "      <td>0.82</td>\n",
       "      <td>0.40</td>\n",
       "    </tr>\n",
       "  </tbody>\n",
       "</table>\n",
       "</div>"
      ],
      "text/plain": [
       "      0     1     2     3     4\n",
       "0  0.64  0.26  0.69  0.90  0.20\n",
       "1  0.83  0.49  0.90  0.42  0.32\n",
       "2  0.90  0.54  0.41  0.82  0.40"
      ]
     },
     "execution_count": 111,
     "metadata": {},
     "output_type": "execute_result"
    }
   ],
   "source": [
    "## applymap\n",
    "# f = lambda x :(x,type(x)) # float\n",
    "f = lambda x : '%.2f' %x\n",
    "df.applymap(f)"
   ]
  },
  {
   "cell_type": "code",
   "execution_count": 118,
   "metadata": {
    "collapsed": false
   },
   "outputs": [
    {
     "data": {
      "text/plain": [
       "0    0.69\n",
       "1    0.04\n",
       "2    0.28\n",
       "Name: 0, dtype: object"
      ]
     },
     "execution_count": 118,
     "metadata": {},
     "output_type": "execute_result"
    },
    {
     "data": {
      "text/plain": [
       "one      foo\n",
       "two      bar\n",
       "three    baz\n",
       "dtype: object"
      ]
     },
     "execution_count": 118,
     "metadata": {},
     "output_type": "execute_result"
    }
   ],
   "source": [
    "## map\n",
    "# df[0].map(typefunc) float 只有series有map\n",
    "f = lambda x : '%.2f' %x\n",
    "df[0].map(f)\n",
    "x = pd.Series([1,2,3], index=['one', 'two', 'three'])\n",
    "y = pd.Series(['foo', 'bar', 'baz'], index=[1,2,3])\n",
    "x.map(y) # map 做数值合并"
   ]
  },
  {
   "cell_type": "markdown",
   "metadata": {},
   "source": [
    "### apply"
   ]
  },
  {
   "cell_type": "code",
   "execution_count": 18,
   "metadata": {
    "collapsed": false
   },
   "outputs": [
    {
     "data": {
      "text/plain": [
       "date_time\n",
       "2016-01-04    <type 'float'>\n",
       "Name: nav, dtype: object"
      ]
     },
     "execution_count": 18,
     "metadata": {},
     "output_type": "execute_result"
    },
    {
     "data": {
      "text/plain": [
       "code            <class 'pandas.core.series.Series'>\n",
       "nav             <class 'pandas.core.series.Series'>\n",
       "date_time       <class 'pandas.core.series.Series'>\n",
       "最近20个交易日的最高点    <class 'pandas.core.series.Series'>\n",
       "最近20个交易日的最低点    <class 'pandas.core.series.Series'>\n",
       "dtype: object"
      ]
     },
     "execution_count": 18,
     "metadata": {},
     "output_type": "execute_result"
    },
    {
     "data": {
      "text/plain": [
       "date_time\n",
       "2016-01-04    0.994971\n",
       "2016-01-05         NaN\n",
       "2016-01-06    1.000266\n",
       "2016-01-07    1.001201\n",
       "2016-01-08    1.003561\n",
       "Name: nav, dtype: float64"
      ]
     },
     "execution_count": 18,
     "metadata": {},
     "output_type": "execute_result"
    }
   ],
   "source": [
    "df4['nav'].head(1).apply(lambda x:type(x))\n",
    "df4.head(1).apply(lambda x:type(x))\n",
    "df4['nav'].apply(lambda x:x / df4['nav'].mean())"
   ]
  },
  {
   "cell_type": "code",
   "execution_count": 19,
   "metadata": {
    "collapsed": false
   },
   "outputs": [
    {
     "data": {
      "text/html": [
       "<div>\n",
       "<table border=\"1\" class=\"dataframe\">\n",
       "  <thead>\n",
       "    <tr style=\"text-align: right;\">\n",
       "      <th></th>\n",
       "      <th></th>\n",
       "      <th>code</th>\n",
       "      <th>nav</th>\n",
       "      <th>date_time</th>\n",
       "      <th>最近20个交易日的最高点</th>\n",
       "      <th>最近20个交易日的最低点</th>\n",
       "    </tr>\n",
       "    <tr>\n",
       "      <th>code</th>\n",
       "      <th>date_time</th>\n",
       "      <th></th>\n",
       "      <th></th>\n",
       "      <th></th>\n",
       "      <th></th>\n",
       "      <th></th>\n",
       "    </tr>\n",
       "  </thead>\n",
       "  <tbody>\n",
       "    <tr>\n",
       "      <th rowspan=\"3\" valign=\"top\">1</th>\n",
       "      <th>2017-11-21</th>\n",
       "      <td>1</td>\n",
       "      <td>1.164345</td>\n",
       "      <td>2017-11-21</td>\n",
       "      <td>1.164345</td>\n",
       "      <td>0.997613</td>\n",
       "    </tr>\n",
       "    <tr>\n",
       "      <th>2017-11-10</th>\n",
       "      <td>1</td>\n",
       "      <td>1.163040</td>\n",
       "      <td>2017-11-10</td>\n",
       "      <td>1.163040</td>\n",
       "      <td>0.995388</td>\n",
       "    </tr>\n",
       "    <tr>\n",
       "      <th>2017-11-20</th>\n",
       "      <td>1</td>\n",
       "      <td>1.162734</td>\n",
       "      <td>2017-11-20</td>\n",
       "      <td>1.163040</td>\n",
       "      <td>0.996281</td>\n",
       "    </tr>\n",
       "    <tr>\n",
       "      <th rowspan=\"3\" valign=\"top\">2</th>\n",
       "      <th>2017-10-16</th>\n",
       "      <td>2</td>\n",
       "      <td>1.043501</td>\n",
       "      <td>2017-10-16</td>\n",
       "      <td>1.118135</td>\n",
       "      <td>1.037932</td>\n",
       "    </tr>\n",
       "    <tr>\n",
       "      <th>2017-10-13</th>\n",
       "      <td>2</td>\n",
       "      <td>1.043066</td>\n",
       "      <td>2017-10-13</td>\n",
       "      <td>1.118135</td>\n",
       "      <td>1.037126</td>\n",
       "    </tr>\n",
       "    <tr>\n",
       "      <th>2017-09-13</th>\n",
       "      <td>2</td>\n",
       "      <td>1.041648</td>\n",
       "      <td>2017-09-13</td>\n",
       "      <td>1.114945</td>\n",
       "      <td>1.035377</td>\n",
       "    </tr>\n",
       "  </tbody>\n",
       "</table>\n",
       "</div>"
      ],
      "text/plain": [
       "                 code       nav   date_time  最近20个交易日的最高点  最近20个交易日的最低点\n",
       "code date_time                                                         \n",
       "1    2017-11-21     1  1.164345  2017-11-21      1.164345      0.997613\n",
       "     2017-11-10     1  1.163040  2017-11-10      1.163040      0.995388\n",
       "     2017-11-20     1  1.162734  2017-11-20      1.163040      0.996281\n",
       "2    2017-10-16     2  1.043501  2017-10-16      1.118135      1.037932\n",
       "     2017-10-13     2  1.043066  2017-10-13      1.118135      1.037126\n",
       "     2017-09-13     2  1.041648  2017-09-13      1.114945      1.035377"
      ]
     },
     "execution_count": 19,
     "metadata": {},
     "output_type": "execute_result"
    }
   ],
   "source": [
    "# 分组获取top3\n",
    "def top(df,n=3):\n",
    "    return df.sort_values('nav',ascending=False)[:n]\n",
    "df_nav.groupby(['code']).apply(top)"
   ]
  },
  {
   "cell_type": "code",
   "execution_count": 20,
   "metadata": {
    "collapsed": false
   },
   "outputs": [],
   "source": [
    "# 均值归一化  正则化 x-x.mean()\n",
    "ds = df_nav['nav'].sub(df_nav['nav'].mean())\n",
    "# help(df_nav.rank)"
   ]
  },
  {
   "cell_type": "markdown",
   "metadata": {},
   "source": [
    "### transform"
   ]
  },
  {
   "cell_type": "code",
   "execution_count": 124,
   "metadata": {
    "collapsed": false
   },
   "outputs": [
    {
     "data": {
      "text/html": [
       "<div>\n",
       "<table border=\"1\" class=\"dataframe\">\n",
       "  <thead>\n",
       "    <tr style=\"text-align: right;\">\n",
       "      <th></th>\n",
       "      <th>nav</th>\n",
       "    </tr>\n",
       "    <tr>\n",
       "      <th>date_time</th>\n",
       "      <th></th>\n",
       "    </tr>\n",
       "  </thead>\n",
       "  <tbody>\n",
       "    <tr>\n",
       "      <th>2016-01-04</th>\n",
       "      <td>-1.966494</td>\n",
       "    </tr>\n",
       "    <tr>\n",
       "      <th>2016-01-04</th>\n",
       "      <td>-0.686732</td>\n",
       "    </tr>\n",
       "    <tr>\n",
       "      <th>2016-01-05</th>\n",
       "      <td>-1.933832</td>\n",
       "    </tr>\n",
       "    <tr>\n",
       "      <th>2016-01-05</th>\n",
       "      <td>-0.595680</td>\n",
       "    </tr>\n",
       "    <tr>\n",
       "      <th>2016-01-06</th>\n",
       "      <td>-1.832464</td>\n",
       "    </tr>\n",
       "  </tbody>\n",
       "</table>\n",
       "</div>"
      ],
      "text/plain": [
       "                 nav\n",
       "date_time           \n",
       "2016-01-04 -1.966494\n",
       "2016-01-04 -0.686732\n",
       "2016-01-05 -1.933832\n",
       "2016-01-05 -0.595680\n",
       "2016-01-06 -1.832464"
      ]
     },
     "execution_count": 124,
     "metadata": {},
     "output_type": "execute_result"
    }
   ],
   "source": [
    "# 使用zscore进行归一化\n",
    "zscore = lambda x: (x-x.mean())/x.std()\n",
    "tf_df = df_nav.groupby('code').transform(zscore).head()\n",
    "tf_df"
   ]
  },
  {
   "cell_type": "markdown",
   "metadata": {},
   "source": [
    "## 计算函数"
   ]
  },
  {
   "cell_type": "markdown",
   "metadata": {},
   "source": [
    "### resample 重采样"
   ]
  },
  {
   "cell_type": "markdown",
   "metadata": {},
   "source": [
    "![](https://yqfile.alicdn.com/092a46beca4f34b5cbf196e73d661a00529ef712.png)  "
   ]
  },
  {
   "cell_type": "code",
   "execution_count": 51,
   "metadata": {
    "collapsed": false
   },
   "outputs": [
    {
     "data": {
      "text/html": [
       "<div>\n",
       "<table border=\"1\" class=\"dataframe\">\n",
       "  <thead>\n",
       "    <tr style=\"text-align: right;\">\n",
       "      <th></th>\n",
       "      <th>code</th>\n",
       "      <th>nav</th>\n",
       "      <th>date_time</th>\n",
       "      <th>最近20个交易日的最高点</th>\n",
       "      <th>最近20个交易日的最低点</th>\n",
       "      <th>roll_mean</th>\n",
       "    </tr>\n",
       "    <tr>\n",
       "      <th>date_time</th>\n",
       "      <th></th>\n",
       "      <th></th>\n",
       "      <th></th>\n",
       "      <th></th>\n",
       "      <th></th>\n",
       "      <th></th>\n",
       "    </tr>\n",
       "  </thead>\n",
       "  <tbody>\n",
       "    <tr>\n",
       "      <th>2016-01-04</th>\n",
       "      <td>1</td>\n",
       "      <td>0.999001</td>\n",
       "      <td>2016-01-04</td>\n",
       "      <td>0.999001</td>\n",
       "      <td>0.999001</td>\n",
       "      <td>NaN</td>\n",
       "    </tr>\n",
       "    <tr>\n",
       "      <th>2016-01-05</th>\n",
       "      <td>1</td>\n",
       "      <td>1.000297</td>\n",
       "      <td>2016-01-05</td>\n",
       "      <td>1.000297</td>\n",
       "      <td>0.999001</td>\n",
       "      <td>NaN</td>\n",
       "    </tr>\n",
       "    <tr>\n",
       "      <th>2016-01-06</th>\n",
       "      <td>1</td>\n",
       "      <td>1.004318</td>\n",
       "      <td>2016-01-06</td>\n",
       "      <td>1.004318</td>\n",
       "      <td>0.999001</td>\n",
       "      <td>NaN</td>\n",
       "    </tr>\n",
       "    <tr>\n",
       "      <th>2016-01-07</th>\n",
       "      <td>1</td>\n",
       "      <td>1.005256</td>\n",
       "      <td>2016-01-07</td>\n",
       "      <td>1.005693</td>\n",
       "      <td>0.999001</td>\n",
       "      <td>NaN</td>\n",
       "    </tr>\n",
       "    <tr>\n",
       "      <th>2016-01-08</th>\n",
       "      <td>1</td>\n",
       "      <td>1.007626</td>\n",
       "      <td>2016-01-08</td>\n",
       "      <td>1.007626</td>\n",
       "      <td>0.999001</td>\n",
       "      <td>NaN</td>\n",
       "    </tr>\n",
       "    <tr>\n",
       "      <th>2016-01-11</th>\n",
       "      <td>1</td>\n",
       "      <td>1.005755</td>\n",
       "      <td>2016-01-11</td>\n",
       "      <td>1.007626</td>\n",
       "      <td>0.999001</td>\n",
       "      <td>NaN</td>\n",
       "    </tr>\n",
       "  </tbody>\n",
       "</table>\n",
       "</div>"
      ],
      "text/plain": [
       "            code       nav   date_time  最近20个交易日的最高点  最近20个交易日的最低点  roll_mean\n",
       "date_time                                                                    \n",
       "2016-01-04     1  0.999001  2016-01-04      0.999001      0.999001        NaN\n",
       "2016-01-05     1  1.000297  2016-01-05      1.000297      0.999001        NaN\n",
       "2016-01-06     1  1.004318  2016-01-06      1.004318      0.999001        NaN\n",
       "2016-01-07     1  1.005256  2016-01-07      1.005693      0.999001        NaN\n",
       "2016-01-08     1  1.007626  2016-01-08      1.007626      0.999001        NaN\n",
       "2016-01-11     1  1.005755  2016-01-11      1.007626      0.999001        NaN"
      ]
     },
     "execution_count": 51,
     "metadata": {},
     "output_type": "execute_result"
    },
    {
     "data": {
      "text/html": [
       "<div>\n",
       "<table border=\"1\" class=\"dataframe\">\n",
       "  <thead>\n",
       "    <tr style=\"text-align: right;\">\n",
       "      <th></th>\n",
       "      <th>code</th>\n",
       "      <th>nav</th>\n",
       "      <th>最近20个交易日的最高点</th>\n",
       "      <th>最近20个交易日的最低点</th>\n",
       "      <th>roll_mean</th>\n",
       "    </tr>\n",
       "    <tr>\n",
       "      <th>date_time</th>\n",
       "      <th></th>\n",
       "      <th></th>\n",
       "      <th></th>\n",
       "      <th></th>\n",
       "      <th></th>\n",
       "    </tr>\n",
       "  </thead>\n",
       "  <tbody>\n",
       "    <tr>\n",
       "      <th>2016-01-04</th>\n",
       "      <td>3.0</td>\n",
       "      <td>3.003615</td>\n",
       "      <td>3.003615</td>\n",
       "      <td>2.997003</td>\n",
       "      <td>NaN</td>\n",
       "    </tr>\n",
       "    <tr>\n",
       "      <th>2016-01-07</th>\n",
       "      <td>2.0</td>\n",
       "      <td>2.012882</td>\n",
       "      <td>2.013319</td>\n",
       "      <td>1.998002</td>\n",
       "      <td>NaN</td>\n",
       "    </tr>\n",
       "    <tr>\n",
       "      <th>2016-01-10</th>\n",
       "      <td>2.0</td>\n",
       "      <td>2.011011</td>\n",
       "      <td>2.015252</td>\n",
       "      <td>1.998002</td>\n",
       "      <td>NaN</td>\n",
       "    </tr>\n",
       "    <tr>\n",
       "      <th>2016-01-13</th>\n",
       "      <td>3.0</td>\n",
       "      <td>2.975672</td>\n",
       "      <td>3.022878</td>\n",
       "      <td>2.972854</td>\n",
       "      <td>1.000318</td>\n",
       "    </tr>\n",
       "    <tr>\n",
       "      <th>2016-01-16</th>\n",
       "      <td>1.0</td>\n",
       "      <td>0.986631</td>\n",
       "      <td>1.007626</td>\n",
       "      <td>0.980110</td>\n",
       "      <td>0.999081</td>\n",
       "    </tr>\n",
       "  </tbody>\n",
       "</table>\n",
       "</div>"
      ],
      "text/plain": [
       "            code       nav  最近20个交易日的最高点  最近20个交易日的最低点  roll_mean\n",
       "date_time                                                        \n",
       "2016-01-04   3.0  3.003615      3.003615      2.997003        NaN\n",
       "2016-01-07   2.0  2.012882      2.013319      1.998002        NaN\n",
       "2016-01-10   2.0  2.011011      2.015252      1.998002        NaN\n",
       "2016-01-13   3.0  2.975672      3.022878      2.972854   1.000318\n",
       "2016-01-16   1.0  0.986631      1.007626      0.980110   0.999081"
      ]
     },
     "execution_count": 51,
     "metadata": {},
     "output_type": "execute_result"
    }
   ],
   "source": [
    "# s1 = pd.Series(df_nav['nav'],index=df_nav.index)\n",
    "df3.head(6)\n",
    "df3.index = pd.DatetimeIndex(pd.to_datetime(df3.index)) # 索引要转换成DatatimeIndex\n",
    "df3.resample('3D').sum().head() # 每3天（自然增长日）求一次和\n",
    "# df3.resample('3D').asfreq().head()"
   ]
  },
  {
   "cell_type": "markdown",
   "metadata": {},
   "source": [
    "## 透视表、交叉表"
   ]
  },
  {
   "cell_type": "markdown",
   "metadata": {},
   "source": [
    "### 透视表 \n",
    "> .pivot_tabel(),其中有四个参数可以自定义设置：\n",
    "* index参数:透视表中的索引值\n",
    "* columns参数:分组的列\n",
    "* agggunc:应用在每个区域的聚合函数,默认为np.mean\n",
    "* fill_value:替换结果中的缺失值"
   ]
  },
  {
   "cell_type": "code",
   "execution_count": 135,
   "metadata": {
    "collapsed": false
   },
   "outputs": [
    {
     "data": {
      "text/html": [
       "<div>\n",
       "<table border=\"1\" class=\"dataframe\">\n",
       "  <thead>\n",
       "    <tr style=\"text-align: right;\">\n",
       "      <th></th>\n",
       "      <th>Account</th>\n",
       "      <th>Name</th>\n",
       "      <th>Rep</th>\n",
       "      <th>Manager</th>\n",
       "      <th>Product</th>\n",
       "      <th>Quantity</th>\n",
       "      <th>Price</th>\n",
       "      <th>Status</th>\n",
       "    </tr>\n",
       "  </thead>\n",
       "  <tbody>\n",
       "    <tr>\n",
       "      <th>0</th>\n",
       "      <td>714466</td>\n",
       "      <td>Trantow-Barrows</td>\n",
       "      <td>Craig Booker</td>\n",
       "      <td>Debra Henley</td>\n",
       "      <td>CPU</td>\n",
       "      <td>1</td>\n",
       "      <td>30000</td>\n",
       "      <td>presented</td>\n",
       "    </tr>\n",
       "    <tr>\n",
       "      <th>1</th>\n",
       "      <td>714466</td>\n",
       "      <td>Trantow-Barrows</td>\n",
       "      <td>Craig Booker</td>\n",
       "      <td>Debra Henley</td>\n",
       "      <td>Software</td>\n",
       "      <td>1</td>\n",
       "      <td>10000</td>\n",
       "      <td>presented</td>\n",
       "    </tr>\n",
       "    <tr>\n",
       "      <th>2</th>\n",
       "      <td>714466</td>\n",
       "      <td>Trantow-Barrows</td>\n",
       "      <td>Craig Booker</td>\n",
       "      <td>Debra Henley</td>\n",
       "      <td>Maintenance</td>\n",
       "      <td>2</td>\n",
       "      <td>5000</td>\n",
       "      <td>pending</td>\n",
       "    </tr>\n",
       "    <tr>\n",
       "      <th>3</th>\n",
       "      <td>737550</td>\n",
       "      <td>Fritsch, Russel and Anderson</td>\n",
       "      <td>Craig Booker</td>\n",
       "      <td>Debra Henley</td>\n",
       "      <td>CPU</td>\n",
       "      <td>1</td>\n",
       "      <td>35000</td>\n",
       "      <td>declined</td>\n",
       "    </tr>\n",
       "    <tr>\n",
       "      <th>4</th>\n",
       "      <td>146832</td>\n",
       "      <td>Kiehn-Spinka</td>\n",
       "      <td>Daniel Hilton</td>\n",
       "      <td>Debra Henley</td>\n",
       "      <td>CPU</td>\n",
       "      <td>2</td>\n",
       "      <td>65000</td>\n",
       "      <td>won</td>\n",
       "    </tr>\n",
       "  </tbody>\n",
       "</table>\n",
       "</div>"
      ],
      "text/plain": [
       "   Account                          Name            Rep       Manager  \\\n",
       "0   714466               Trantow-Barrows   Craig Booker  Debra Henley   \n",
       "1   714466               Trantow-Barrows   Craig Booker  Debra Henley   \n",
       "2   714466               Trantow-Barrows   Craig Booker  Debra Henley   \n",
       "3   737550  Fritsch, Russel and Anderson   Craig Booker  Debra Henley   \n",
       "4   146832                  Kiehn-Spinka  Daniel Hilton  Debra Henley   \n",
       "\n",
       "       Product  Quantity  Price     Status  \n",
       "0          CPU         1  30000  presented  \n",
       "1     Software         1  10000  presented  \n",
       "2  Maintenance         2   5000    pending  \n",
       "3          CPU         1  35000   declined  \n",
       "4          CPU         2  65000        won  "
      ]
     },
     "execution_count": 135,
     "metadata": {},
     "output_type": "execute_result"
    },
    {
     "data": {
      "text/html": [
       "<div>\n",
       "<table border=\"1\" class=\"dataframe\">\n",
       "  <thead>\n",
       "    <tr style=\"text-align: right;\">\n",
       "      <th></th>\n",
       "      <th></th>\n",
       "      <th></th>\n",
       "      <th>Account</th>\n",
       "      <th>Price</th>\n",
       "      <th>Quantity</th>\n",
       "    </tr>\n",
       "    <tr>\n",
       "      <th>Name</th>\n",
       "      <th>Rep</th>\n",
       "      <th>Manager</th>\n",
       "      <th></th>\n",
       "      <th></th>\n",
       "      <th></th>\n",
       "    </tr>\n",
       "  </thead>\n",
       "  <tbody>\n",
       "    <tr>\n",
       "      <th>Barton LLC</th>\n",
       "      <th>John Smith</th>\n",
       "      <th>Debra Henley</th>\n",
       "      <td>740150.0</td>\n",
       "      <td>35000.0</td>\n",
       "      <td>1.000000</td>\n",
       "    </tr>\n",
       "    <tr>\n",
       "      <th>Fritsch, Russel and Anderson</th>\n",
       "      <th>Craig Booker</th>\n",
       "      <th>Debra Henley</th>\n",
       "      <td>737550.0</td>\n",
       "      <td>35000.0</td>\n",
       "      <td>1.000000</td>\n",
       "    </tr>\n",
       "    <tr>\n",
       "      <th>Herman LLC</th>\n",
       "      <th>Cedric Moss</th>\n",
       "      <th>Fred Anderson</th>\n",
       "      <td>141962.0</td>\n",
       "      <td>65000.0</td>\n",
       "      <td>2.000000</td>\n",
       "    </tr>\n",
       "    <tr>\n",
       "      <th>Jerde-Hilpert</th>\n",
       "      <th>John Smith</th>\n",
       "      <th>Debra Henley</th>\n",
       "      <td>412290.0</td>\n",
       "      <td>5000.0</td>\n",
       "      <td>2.000000</td>\n",
       "    </tr>\n",
       "    <tr>\n",
       "      <th>Kassulke, Ondricka and Metz</th>\n",
       "      <th>Wendy Yule</th>\n",
       "      <th>Fred Anderson</th>\n",
       "      <td>307599.0</td>\n",
       "      <td>7000.0</td>\n",
       "      <td>3.000000</td>\n",
       "    </tr>\n",
       "    <tr>\n",
       "      <th>Keeling LLC</th>\n",
       "      <th>Wendy Yule</th>\n",
       "      <th>Fred Anderson</th>\n",
       "      <td>688981.0</td>\n",
       "      <td>100000.0</td>\n",
       "      <td>5.000000</td>\n",
       "    </tr>\n",
       "    <tr>\n",
       "      <th>Kiehn-Spinka</th>\n",
       "      <th>Daniel Hilton</th>\n",
       "      <th>Debra Henley</th>\n",
       "      <td>146832.0</td>\n",
       "      <td>65000.0</td>\n",
       "      <td>2.000000</td>\n",
       "    </tr>\n",
       "    <tr>\n",
       "      <th>Koepp Ltd</th>\n",
       "      <th>Wendy Yule</th>\n",
       "      <th>Fred Anderson</th>\n",
       "      <td>729833.0</td>\n",
       "      <td>35000.0</td>\n",
       "      <td>2.000000</td>\n",
       "    </tr>\n",
       "    <tr>\n",
       "      <th>Kulas Inc</th>\n",
       "      <th>Daniel Hilton</th>\n",
       "      <th>Debra Henley</th>\n",
       "      <td>218895.0</td>\n",
       "      <td>25000.0</td>\n",
       "      <td>1.500000</td>\n",
       "    </tr>\n",
       "    <tr>\n",
       "      <th>Purdy-Kunde</th>\n",
       "      <th>Cedric Moss</th>\n",
       "      <th>Fred Anderson</th>\n",
       "      <td>163416.0</td>\n",
       "      <td>30000.0</td>\n",
       "      <td>1.000000</td>\n",
       "    </tr>\n",
       "    <tr>\n",
       "      <th>Stokes LLC</th>\n",
       "      <th>Cedric Moss</th>\n",
       "      <th>Fred Anderson</th>\n",
       "      <td>239344.0</td>\n",
       "      <td>7500.0</td>\n",
       "      <td>1.000000</td>\n",
       "    </tr>\n",
       "    <tr>\n",
       "      <th>Trantow-Barrows</th>\n",
       "      <th>Craig Booker</th>\n",
       "      <th>Debra Henley</th>\n",
       "      <td>714466.0</td>\n",
       "      <td>15000.0</td>\n",
       "      <td>1.333333</td>\n",
       "    </tr>\n",
       "  </tbody>\n",
       "</table>\n",
       "</div>"
      ],
      "text/plain": [
       "                                                           Account     Price  \\\n",
       "Name                         Rep           Manager                             \n",
       "Barton LLC                   John Smith    Debra Henley   740150.0   35000.0   \n",
       "Fritsch, Russel and Anderson Craig Booker  Debra Henley   737550.0   35000.0   \n",
       "Herman LLC                   Cedric Moss   Fred Anderson  141962.0   65000.0   \n",
       "Jerde-Hilpert                John Smith    Debra Henley   412290.0    5000.0   \n",
       "Kassulke, Ondricka and Metz  Wendy Yule    Fred Anderson  307599.0    7000.0   \n",
       "Keeling LLC                  Wendy Yule    Fred Anderson  688981.0  100000.0   \n",
       "Kiehn-Spinka                 Daniel Hilton Debra Henley   146832.0   65000.0   \n",
       "Koepp Ltd                    Wendy Yule    Fred Anderson  729833.0   35000.0   \n",
       "Kulas Inc                    Daniel Hilton Debra Henley   218895.0   25000.0   \n",
       "Purdy-Kunde                  Cedric Moss   Fred Anderson  163416.0   30000.0   \n",
       "Stokes LLC                   Cedric Moss   Fred Anderson  239344.0    7500.0   \n",
       "Trantow-Barrows              Craig Booker  Debra Henley   714466.0   15000.0   \n",
       "\n",
       "                                                          Quantity  \n",
       "Name                         Rep           Manager                  \n",
       "Barton LLC                   John Smith    Debra Henley   1.000000  \n",
       "Fritsch, Russel and Anderson Craig Booker  Debra Henley   1.000000  \n",
       "Herman LLC                   Cedric Moss   Fred Anderson  2.000000  \n",
       "Jerde-Hilpert                John Smith    Debra Henley   2.000000  \n",
       "Kassulke, Ondricka and Metz  Wendy Yule    Fred Anderson  3.000000  \n",
       "Keeling LLC                  Wendy Yule    Fred Anderson  5.000000  \n",
       "Kiehn-Spinka                 Daniel Hilton Debra Henley   2.000000  \n",
       "Koepp Ltd                    Wendy Yule    Fred Anderson  2.000000  \n",
       "Kulas Inc                    Daniel Hilton Debra Henley   1.500000  \n",
       "Purdy-Kunde                  Cedric Moss   Fred Anderson  1.000000  \n",
       "Stokes LLC                   Cedric Moss   Fred Anderson  1.000000  \n",
       "Trantow-Barrows              Craig Booker  Debra Henley   1.333333  "
      ]
     },
     "execution_count": 135,
     "metadata": {},
     "output_type": "execute_result"
    },
    {
     "data": {
      "text/html": [
       "<div>\n",
       "<table border=\"1\" class=\"dataframe\">\n",
       "  <thead>\n",
       "    <tr>\n",
       "      <th></th>\n",
       "      <th></th>\n",
       "      <th>mean</th>\n",
       "      <th>len</th>\n",
       "    </tr>\n",
       "    <tr>\n",
       "      <th></th>\n",
       "      <th></th>\n",
       "      <th>Price</th>\n",
       "      <th>Price</th>\n",
       "    </tr>\n",
       "    <tr>\n",
       "      <th>Manager</th>\n",
       "      <th>Rep</th>\n",
       "      <th></th>\n",
       "      <th></th>\n",
       "    </tr>\n",
       "  </thead>\n",
       "  <tbody>\n",
       "    <tr>\n",
       "      <th rowspan=\"3\" valign=\"top\">Debra Henley</th>\n",
       "      <th>Craig Booker</th>\n",
       "      <td>20000</td>\n",
       "      <td>4</td>\n",
       "    </tr>\n",
       "    <tr>\n",
       "      <th>Daniel Hilton</th>\n",
       "      <td>38333</td>\n",
       "      <td>3</td>\n",
       "    </tr>\n",
       "    <tr>\n",
       "      <th>John Smith</th>\n",
       "      <td>20000</td>\n",
       "      <td>2</td>\n",
       "    </tr>\n",
       "    <tr>\n",
       "      <th rowspan=\"2\" valign=\"top\">Fred Anderson</th>\n",
       "      <th>Cedric Moss</th>\n",
       "      <td>27500</td>\n",
       "      <td>4</td>\n",
       "    </tr>\n",
       "    <tr>\n",
       "      <th>Wendy Yule</th>\n",
       "      <td>44250</td>\n",
       "      <td>4</td>\n",
       "    </tr>\n",
       "  </tbody>\n",
       "</table>\n",
       "</div>"
      ],
      "text/plain": [
       "                              mean   len\n",
       "                             Price Price\n",
       "Manager       Rep                       \n",
       "Debra Henley  Craig Booker   20000     4\n",
       "              Daniel Hilton  38333     3\n",
       "              John Smith     20000     2\n",
       "Fred Anderson Cedric Moss    27500     4\n",
       "              Wendy Yule     44250     4"
      ]
     },
     "execution_count": 135,
     "metadata": {},
     "output_type": "execute_result"
    }
   ],
   "source": [
    "df = pd.read_excel('output/salesfunnel.xlsx')\n",
    "df[\"Status\"] = df[\"Status\"].astype(\"category\")\n",
    "df[\"Status\"].cat.set_categories([\"won\",\"pending\",\"presented\",\"declined\"],inplace=True)\n",
    "df.head()\n",
    "df.pivot_table(index=[\"Name\",\"Rep\",\"Manager\"])\n",
    "pd.pivot_table(df,index=[\"Manager\",\"Rep\"],values=[\"Price\"],aggfunc=[np.mean,len])"
   ]
  },
  {
   "cell_type": "markdown",
   "metadata": {},
   "source": [
    "### 交叉表\n",
    "> 交叉表用于计算分组频率，是一种特殊的透视表。\n",
    "pd.crosstab(index, columns)其中有两个参数：\n",
    "* index: 分组数据,交叉表的行索引\n",
    "* columns: 交叉表的列索引"
   ]
  },
  {
   "cell_type": "code",
   "execution_count": 144,
   "metadata": {
    "collapsed": false
   },
   "outputs": [
    {
     "data": {
      "text/html": [
       "<div>\n",
       "<table border=\"1\" class=\"dataframe\">\n",
       "  <thead>\n",
       "    <tr>\n",
       "      <th>Quantity</th>\n",
       "      <th colspan=\"3\" halign=\"left\">1</th>\n",
       "      <th colspan=\"3\" halign=\"left\">2</th>\n",
       "      <th>3</th>\n",
       "      <th>5</th>\n",
       "    </tr>\n",
       "    <tr>\n",
       "      <th>Product</th>\n",
       "      <th>CPU</th>\n",
       "      <th>Maintenance</th>\n",
       "      <th>Software</th>\n",
       "      <th>CPU</th>\n",
       "      <th>Maintenance</th>\n",
       "      <th>Monitor</th>\n",
       "      <th>Maintenance</th>\n",
       "      <th>CPU</th>\n",
       "    </tr>\n",
       "    <tr>\n",
       "      <th>Name</th>\n",
       "      <th></th>\n",
       "      <th></th>\n",
       "      <th></th>\n",
       "      <th></th>\n",
       "      <th></th>\n",
       "      <th></th>\n",
       "      <th></th>\n",
       "      <th></th>\n",
       "    </tr>\n",
       "  </thead>\n",
       "  <tbody>\n",
       "    <tr>\n",
       "      <th>Barton LLC</th>\n",
       "      <td>1</td>\n",
       "      <td>0</td>\n",
       "      <td>0</td>\n",
       "      <td>0</td>\n",
       "      <td>0</td>\n",
       "      <td>0</td>\n",
       "      <td>0</td>\n",
       "      <td>0</td>\n",
       "    </tr>\n",
       "    <tr>\n",
       "      <th>Fritsch, Russel and Anderson</th>\n",
       "      <td>1</td>\n",
       "      <td>0</td>\n",
       "      <td>0</td>\n",
       "      <td>0</td>\n",
       "      <td>0</td>\n",
       "      <td>0</td>\n",
       "      <td>0</td>\n",
       "      <td>0</td>\n",
       "    </tr>\n",
       "    <tr>\n",
       "      <th>Herman LLC</th>\n",
       "      <td>0</td>\n",
       "      <td>0</td>\n",
       "      <td>0</td>\n",
       "      <td>1</td>\n",
       "      <td>0</td>\n",
       "      <td>0</td>\n",
       "      <td>0</td>\n",
       "      <td>0</td>\n",
       "    </tr>\n",
       "    <tr>\n",
       "      <th>Jerde-Hilpert</th>\n",
       "      <td>0</td>\n",
       "      <td>0</td>\n",
       "      <td>0</td>\n",
       "      <td>0</td>\n",
       "      <td>1</td>\n",
       "      <td>0</td>\n",
       "      <td>0</td>\n",
       "      <td>0</td>\n",
       "    </tr>\n",
       "    <tr>\n",
       "      <th>Kassulke, Ondricka and Metz</th>\n",
       "      <td>0</td>\n",
       "      <td>0</td>\n",
       "      <td>0</td>\n",
       "      <td>0</td>\n",
       "      <td>0</td>\n",
       "      <td>0</td>\n",
       "      <td>1</td>\n",
       "      <td>0</td>\n",
       "    </tr>\n",
       "    <tr>\n",
       "      <th>Keeling LLC</th>\n",
       "      <td>0</td>\n",
       "      <td>0</td>\n",
       "      <td>0</td>\n",
       "      <td>0</td>\n",
       "      <td>0</td>\n",
       "      <td>0</td>\n",
       "      <td>0</td>\n",
       "      <td>1</td>\n",
       "    </tr>\n",
       "    <tr>\n",
       "      <th>Kiehn-Spinka</th>\n",
       "      <td>0</td>\n",
       "      <td>0</td>\n",
       "      <td>0</td>\n",
       "      <td>1</td>\n",
       "      <td>0</td>\n",
       "      <td>0</td>\n",
       "      <td>0</td>\n",
       "      <td>0</td>\n",
       "    </tr>\n",
       "    <tr>\n",
       "      <th>Koepp Ltd</th>\n",
       "      <td>0</td>\n",
       "      <td>0</td>\n",
       "      <td>0</td>\n",
       "      <td>1</td>\n",
       "      <td>0</td>\n",
       "      <td>1</td>\n",
       "      <td>0</td>\n",
       "      <td>0</td>\n",
       "    </tr>\n",
       "    <tr>\n",
       "      <th>Kulas Inc</th>\n",
       "      <td>0</td>\n",
       "      <td>0</td>\n",
       "      <td>1</td>\n",
       "      <td>1</td>\n",
       "      <td>0</td>\n",
       "      <td>0</td>\n",
       "      <td>0</td>\n",
       "      <td>0</td>\n",
       "    </tr>\n",
       "    <tr>\n",
       "      <th>Purdy-Kunde</th>\n",
       "      <td>1</td>\n",
       "      <td>0</td>\n",
       "      <td>0</td>\n",
       "      <td>0</td>\n",
       "      <td>0</td>\n",
       "      <td>0</td>\n",
       "      <td>0</td>\n",
       "      <td>0</td>\n",
       "    </tr>\n",
       "    <tr>\n",
       "      <th>Stokes LLC</th>\n",
       "      <td>0</td>\n",
       "      <td>1</td>\n",
       "      <td>1</td>\n",
       "      <td>0</td>\n",
       "      <td>0</td>\n",
       "      <td>0</td>\n",
       "      <td>0</td>\n",
       "      <td>0</td>\n",
       "    </tr>\n",
       "    <tr>\n",
       "      <th>Trantow-Barrows</th>\n",
       "      <td>1</td>\n",
       "      <td>0</td>\n",
       "      <td>1</td>\n",
       "      <td>0</td>\n",
       "      <td>1</td>\n",
       "      <td>0</td>\n",
       "      <td>0</td>\n",
       "      <td>0</td>\n",
       "    </tr>\n",
       "  </tbody>\n",
       "</table>\n",
       "</div>"
      ],
      "text/plain": [
       "Quantity                       1                        2                      \\\n",
       "Product                      CPU Maintenance Software CPU Maintenance Monitor   \n",
       "Name                                                                            \n",
       "Barton LLC                     1           0        0   0           0       0   \n",
       "Fritsch, Russel and Anderson   1           0        0   0           0       0   \n",
       "Herman LLC                     0           0        0   1           0       0   \n",
       "Jerde-Hilpert                  0           0        0   0           1       0   \n",
       "Kassulke, Ondricka and Metz    0           0        0   0           0       0   \n",
       "Keeling LLC                    0           0        0   0           0       0   \n",
       "Kiehn-Spinka                   0           0        0   1           0       0   \n",
       "Koepp Ltd                      0           0        0   1           0       1   \n",
       "Kulas Inc                      0           0        1   1           0       0   \n",
       "Purdy-Kunde                    1           0        0   0           0       0   \n",
       "Stokes LLC                     0           1        1   0           0       0   \n",
       "Trantow-Barrows                1           0        1   0           1       0   \n",
       "\n",
       "Quantity                               3   5  \n",
       "Product                      Maintenance CPU  \n",
       "Name                                          \n",
       "Barton LLC                             0   0  \n",
       "Fritsch, Russel and Anderson           0   0  \n",
       "Herman LLC                             0   0  \n",
       "Jerde-Hilpert                          0   0  \n",
       "Kassulke, Ondricka and Metz            1   0  \n",
       "Keeling LLC                            0   1  \n",
       "Kiehn-Spinka                           0   0  \n",
       "Koepp Ltd                              0   0  \n",
       "Kulas Inc                              0   0  \n",
       "Purdy-Kunde                            0   0  \n",
       "Stokes LLC                             0   0  \n",
       "Trantow-Barrows                        0   0  "
      ]
     },
     "execution_count": 144,
     "metadata": {},
     "output_type": "execute_result"
    }
   ],
   "source": [
    "pd.crosstab(df['Name'],[df['Quantity'],df['Product']])"
   ]
  },
  {
   "cell_type": "code",
   "execution_count": 45,
   "metadata": {
    "collapsed": false
   },
   "outputs": [],
   "source": [
    "df_nav.pct_change()\n",
    "df_nav.cumsum()\n",
    "df_nav.cummax()\n",
    "df_nav.cummin()\n",
    "df_nav.cumprod()\n",
    "#时间序列相关\n",
    "shift"
   ]
  },
  {
   "cell_type": "code",
   "execution_count": null,
   "metadata": {
    "collapsed": true
   },
   "outputs": [],
   "source": [
    "# 使用%timeit来对比那种df迭代方式更快\n",
    "%%timeit\n",
    "%%lprun"
   ]
  },
  {
   "cell_type": "code",
   "execution_count": 63,
   "metadata": {
    "collapsed": false
   },
   "outputs": [
    {
     "data": {
      "text/plain": [
       "[('1', 30354),\n",
       " ('4', 30230),\n",
       " ('3', 30193),\n",
       " ('0', 30186),\n",
       " ('5', 30174),\n",
       " ('6', 30103),\n",
       " ('2', 30047),\n",
       " ('9', 30007),\n",
       " ('8', 29896),\n",
       " ('7', 29840)]"
      ]
     },
     "execution_count": 63,
     "metadata": {},
     "output_type": "execute_result"
    }
   ],
   "source": [
    "import collections\n",
    "c = collections.Counter(str(2**1000000)).most_common()\n",
    "c"
   ]
  },
  {
   "cell_type": "code",
   "execution_count": 64,
   "metadata": {
    "collapsed": false,
    "scrolled": true
   },
   "outputs": [
    {
     "data": {
      "text/plain": [
       "<matplotlib.contour.QuadContourSet at 0xc3f3240>"
      ]
     },
     "execution_count": 64,
     "metadata": {},
     "output_type": "execute_result"
    },
    {
     "data": {
      "image/png": "[encoded data removed]",
      "text/plain": [
       "<matplotlib.figure.Figure at 0xb007780>"
      ]
     },
     "metadata": {},
     "output_type": "display_data"
    }
   ],
   "source": [
    "x, y=np.mgrid[-2:2:500j, -2:2:500j]\n",
    "\n",
    "z=(x**2 + y**2 -1 )**3 -x**2 * y**3\n",
    "\n",
    "plt.contourf(x,y,z, levels=[-1,0], colors=[\"red\"])\n",
    "\n",
    "plt.gca().set_aspect(\"equal\")\n",
    "\n",
    "plt.show()"
   ]
  },
  {
   "cell_type": "code",
   "execution_count": null,
   "metadata": {
    "collapsed": true
   },
   "outputs": [],
   "source": [
    "# 透视表\n",
    "total_births = top1k.pivot_table('births', rows= 'year', cols = 'name', aggfunc = sum)"
   ]
  },
  {
   "cell_type": "code",
   "execution_count": 65,
   "metadata": {
    "collapsed": false
   },
   "outputs": [
    {
     "name": "stdout",
     "output_type": "stream",
     "text": [
      "100 loops, best of 3: 8.18 ms per loop\n"
     ]
    }
   ],
   "source": [
    "from random import normalvariate \n",
    "%timeit samples = [normalvariate(0, 1) for _ in xrange(10000)]"
   ]
  },
  {
   "cell_type": "code",
   "execution_count": null,
   "metadata": {
    "collapsed": true
   },
   "outputs": [],
   "source": []
  },
  {
   "cell_type": "code",
   "execution_count": null,
   "metadata": {
    "collapsed": true
   },
   "outputs": [],
   "source": []
  }
 ],
 "metadata": {
  "kernelspec": {
   "display_name": "Python 2",
   "language": "python",
   "name": "python2"
  },
  "language_info": {
   "codemirror_mode": {
    "name": "ipython",
    "version": 2
   },
   "file_extension": ".py",
   "mimetype": "text/x-python",
   "name": "python",
   "nbconvert_exporter": "python",
   "pygments_lexer": "ipython2",
   "version": "2.7.13"
  }
 },
 "nbformat": 4,
 "nbformat_minor": 0
}
